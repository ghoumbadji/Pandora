{
 "cells": [
  {
   "cell_type": "markdown",
   "metadata": {
    "id": "4-JYUsFY1JCJ"
   },
   "source": [
    "## **Setting up the environment**"
   ]
  },
  {
   "cell_type": "code",
   "execution_count": 1,
   "metadata": {
    "id": "ajdpW8Qj03Ew"
   },
   "outputs": [],
   "source": [
    "# NLP libraries\n",
    "import re\n",
    "import spacy\n",
    "import preprocessor as p\n",
    "import tagme\n",
    "from collections import Counter\n",
    "\n",
    "# Analysis libraries\n",
    "import pandas as pd\n",
    "import ast\n",
    "import matplotlib.pyplot as plt\n",
    "import seaborn as sns"
   ]
  },
  {
   "cell_type": "code",
   "execution_count": 2,
   "metadata": {},
   "outputs": [],
   "source": [
    "pd.set_option(\"display.max_colwidth\", None)"
   ]
  },
  {
   "cell_type": "code",
   "execution_count": 3,
   "metadata": {},
   "outputs": [
    {
     "name": "stdout",
     "output_type": "stream",
     "text": [
      "Collecting en-core-web-sm==3.8.0\n",
      "  Downloading https://github.com/explosion/spacy-models/releases/download/en_core_web_sm-3.8.0/en_core_web_sm-3.8.0-py3-none-any.whl (12.8 MB)\n",
      "\u001b[2K     \u001b[38;2;114;156;31m━━━━━━━━━━━━━━━━━━━━━━━━━━━━━━━━━━━━━━━━\u001b[0m \u001b[32m12.8/12.8 MB\u001b[0m \u001b[31m44.4 MB/s\u001b[0m eta \u001b[36m0:00:00\u001b[0mm eta \u001b[36m0:00:01\u001b[0m36m0:00:01\u001b[0m\n",
      "\u001b[?25h\u001b[38;5;2m✔ Download and installation successful\u001b[0m\n",
      "You can now load the package via spacy.load('en_core_web_sm')\n",
      "\u001b[38;5;3m⚠ Restart to reload dependencies\u001b[0m\n",
      "If you are in a Jupyter or Colab notebook, you may need to restart Python in\n",
      "order to load all the package's dependencies. You can do this by selecting the\n",
      "'Restart kernel' or 'Restart runtime' option.\n"
     ]
    }
   ],
   "source": [
    "spacy.cli.download(\"en_core_web_sm\")"
   ]
  },
  {
   "cell_type": "markdown",
   "metadata": {
    "id": "SiCsMQ9b1NzE"
   },
   "source": [
    "## **Loading the data**"
   ]
  },
  {
   "cell_type": "markdown",
   "metadata": {
    "id": "dmeou-gVGiwo"
   },
   "source": [
    "We will load the HatEval dataset. It is a dataset about violence against immigrants and women."
   ]
  },
  {
   "cell_type": "code",
   "execution_count": 4,
   "metadata": {
    "id": "PAgFD7oD-TYS"
   },
   "outputs": [],
   "source": [
    "train_df = pd.read_csv(\"./source_data/train_en.tsv\", sep=\"\\t\")\n",
    "dev_df = pd.read_csv(\"./source_data/dev_en.tsv\", sep=\"\\t\")\n",
    "data_df = pd.concat([train_df, dev_df])"
   ]
  },
  {
   "cell_type": "code",
   "execution_count": 5,
   "metadata": {
    "colab": {
     "base_uri": "https://localhost:8080/",
     "height": 206
    },
    "id": "8P12mLsm_LI7",
    "outputId": "75eac799-a072-4308-9a61-33b06de4349a"
   },
   "outputs": [
    {
     "data": {
      "text/html": [
       "<div>\n",
       "<style scoped>\n",
       "    .dataframe tbody tr th:only-of-type {\n",
       "        vertical-align: middle;\n",
       "    }\n",
       "\n",
       "    .dataframe tbody tr th {\n",
       "        vertical-align: top;\n",
       "    }\n",
       "\n",
       "    .dataframe thead th {\n",
       "        text-align: right;\n",
       "    }\n",
       "</style>\n",
       "<table border=\"1\" class=\"dataframe\">\n",
       "  <thead>\n",
       "    <tr style=\"text-align: right;\">\n",
       "      <th></th>\n",
       "      <th>id</th>\n",
       "      <th>text</th>\n",
       "      <th>HS</th>\n",
       "      <th>TR</th>\n",
       "      <th>AG</th>\n",
       "    </tr>\n",
       "  </thead>\n",
       "  <tbody>\n",
       "    <tr>\n",
       "      <th>0</th>\n",
       "      <td>201</td>\n",
       "      <td>Hurray, saving us $$$ in so many ways @potus @realDonaldTrump #LockThemUp #BuildTheWall #EndDACA #BoycottNFL #BoycottNike</td>\n",
       "      <td>1</td>\n",
       "      <td>0</td>\n",
       "      <td>0</td>\n",
       "    </tr>\n",
       "    <tr>\n",
       "      <th>1</th>\n",
       "      <td>202</td>\n",
       "      <td>Why would young fighting age men be the vast majority of the ones escaping a war &amp;amp; not those who cannot fight like women, children, and the elderly?It's because the majority of the refugees are not actually refugees they are economic migrants trying to get into Europe.... https://t.co/Ks0SHbtYqn</td>\n",
       "      <td>1</td>\n",
       "      <td>0</td>\n",
       "      <td>0</td>\n",
       "    </tr>\n",
       "    <tr>\n",
       "      <th>2</th>\n",
       "      <td>203</td>\n",
       "      <td>@KamalaHarris Illegals Dump their Kids at the border like Road Kill and Refuse to Unite! They Hope they get Amnesty, Free Education and Welfare Illegal #FamilesBelongTogether in their Country not on the Taxpayer Dime Its a SCAM #NoDACA #NoAmnesty #SendThe</td>\n",
       "      <td>1</td>\n",
       "      <td>0</td>\n",
       "      <td>0</td>\n",
       "    </tr>\n",
       "    <tr>\n",
       "      <th>3</th>\n",
       "      <td>204</td>\n",
       "      <td>NY Times: 'Nearly All White' States Pose 'an Array of Problems' for Immigrants https://t.co/ACZKLhdMV9 https://t.co/CJAlSXCzR6</td>\n",
       "      <td>0</td>\n",
       "      <td>0</td>\n",
       "      <td>0</td>\n",
       "    </tr>\n",
       "    <tr>\n",
       "      <th>4</th>\n",
       "      <td>205</td>\n",
       "      <td>Orban in Brussels: European leaders are ignoring the will of the people, they do not want migrants https://t.co/NeYFyqvYlX</td>\n",
       "      <td>0</td>\n",
       "      <td>0</td>\n",
       "      <td>0</td>\n",
       "    </tr>\n",
       "  </tbody>\n",
       "</table>\n",
       "</div>"
      ],
      "text/plain": [
       "    id  \\\n",
       "0  201   \n",
       "1  202   \n",
       "2  203   \n",
       "3  204   \n",
       "4  205   \n",
       "\n",
       "                                                                                                                                                                                                                                                                                                           text  \\\n",
       "0                                                                                                                                                                                     Hurray, saving us $$$ in so many ways @potus @realDonaldTrump #LockThemUp #BuildTheWall #EndDACA #BoycottNFL #BoycottNike   \n",
       "1  Why would young fighting age men be the vast majority of the ones escaping a war &amp; not those who cannot fight like women, children, and the elderly?It's because the majority of the refugees are not actually refugees they are economic migrants trying to get into Europe.... https://t.co/Ks0SHbtYqn   \n",
       "2                                               @KamalaHarris Illegals Dump their Kids at the border like Road Kill and Refuse to Unite! They Hope they get Amnesty, Free Education and Welfare Illegal #FamilesBelongTogether in their Country not on the Taxpayer Dime Its a SCAM #NoDACA #NoAmnesty #SendThe   \n",
       "3                                                                                                                                                                                NY Times: 'Nearly All White' States Pose 'an Array of Problems' for Immigrants https://t.co/ACZKLhdMV9 https://t.co/CJAlSXCzR6   \n",
       "4                                                                                                                                                                                    Orban in Brussels: European leaders are ignoring the will of the people, they do not want migrants https://t.co/NeYFyqvYlX   \n",
       "\n",
       "   HS  TR AG  \n",
       "0   1   0  0  \n",
       "1   1   0  0  \n",
       "2   1   0  0  \n",
       "3   0   0  0  \n",
       "4   0   0  0  "
      ]
     },
     "execution_count": 5,
     "metadata": {},
     "output_type": "execute_result"
    }
   ],
   "source": [
    "data_df.head()"
   ]
  },
  {
   "cell_type": "code",
   "execution_count": 6,
   "metadata": {
    "colab": {
     "base_uri": "https://localhost:8080/"
    },
    "id": "bni6jx1J1RWc",
    "outputId": "1e873a4d-db55-4c07-e846-392948b26a21"
   },
   "outputs": [
    {
     "data": {
      "text/plain": [
       "(10000, 5)"
      ]
     },
     "execution_count": 6,
     "metadata": {},
     "output_type": "execute_result"
    }
   ],
   "source": [
    "data_df.shape"
   ]
  },
  {
   "cell_type": "markdown",
   "metadata": {
    "id": "5KMH1FQIAx_o"
   },
   "source": [
    "The dataset contains 10000 tweets."
   ]
  },
  {
   "cell_type": "code",
   "execution_count": 7,
   "metadata": {
    "colab": {
     "base_uri": "https://localhost:8080/"
    },
    "id": "sp8h2HEOAui5",
    "outputId": "2cc52c94-f540-4cd6-fc3b-9427575daed9"
   },
   "outputs": [
    {
     "name": "stdout",
     "output_type": "stream",
     "text": [
      "<class 'pandas.core.frame.DataFrame'>\n",
      "Index: 10000 entries, 0 to 999\n",
      "Data columns (total 5 columns):\n",
      " #   Column  Non-Null Count  Dtype \n",
      "---  ------  --------------  ----- \n",
      " 0   id      10000 non-null  int64 \n",
      " 1   text    10000 non-null  object\n",
      " 2   HS      10000 non-null  int64 \n",
      " 3   TR      10000 non-null  int64 \n",
      " 4   AG      10000 non-null  object\n",
      "dtypes: int64(3), object(2)\n",
      "memory usage: 468.8+ KB\n"
     ]
    }
   ],
   "source": [
    "data_df.info()"
   ]
  },
  {
   "cell_type": "markdown",
   "metadata": {
    "id": "UpRbWlCTA9h-"
   },
   "source": [
    "*   **id** is an unique identifier of the tweet\n",
    "*   **text** is the content of the tweet\n",
    "*   **HS** (**Hate Speech**) is to say if the tweet is hate speech or not\n",
    "*   **TR** (**Targeted Recipient**) is to say if the tweet is against a group of people or a particular individual (in the case it is an hate speech)\n",
    "*   **AG** (**Aggressiveness**) is to say if the tweet is aggressive or not (in the case it is an hate speech)"
   ]
  },
  {
   "cell_type": "markdown",
   "metadata": {
    "id": "vFM9hximAKdj"
   },
   "source": [
    "## **Preprocessing the data**"
   ]
  },
  {
   "cell_type": "code",
   "execution_count": 8,
   "metadata": {},
   "outputs": [
    {
     "data": {
      "text/plain": [
       "id      0\n",
       "text    0\n",
       "HS      0\n",
       "TR      0\n",
       "AG      0\n",
       "dtype: int64"
      ]
     },
     "execution_count": 8,
     "metadata": {},
     "output_type": "execute_result"
    }
   ],
   "source": [
    "data_df.isna().sum()"
   ]
  },
  {
   "cell_type": "code",
   "execution_count": 9,
   "metadata": {},
   "outputs": [
    {
     "data": {
      "text/plain": [
       "np.int64(0)"
      ]
     },
     "execution_count": 9,
     "metadata": {},
     "output_type": "execute_result"
    }
   ],
   "source": [
    "data_df.duplicated().sum()"
   ]
  },
  {
   "cell_type": "code",
   "execution_count": 10,
   "metadata": {
    "id": "kB3pQgiRD72G"
   },
   "outputs": [],
   "source": [
    "# We don't need the id column for our analysis so, we remove it.\n",
    "\n",
    "data_df = data_df.drop(columns=[\"id\"])"
   ]
  },
  {
   "cell_type": "markdown",
   "metadata": {},
   "source": [
    "We notice through the call of info() method earlier that AG is considered an object column meanwhile it should only contain 0 or 1."
   ]
  },
  {
   "cell_type": "code",
   "execution_count": 11,
   "metadata": {},
   "outputs": [
    {
     "data": {
      "text/plain": [
       "array(['0', '1', 'discredit', 0, 1], dtype=object)"
      ]
     },
     "execution_count": 11,
     "metadata": {},
     "output_type": "execute_result"
    }
   ],
   "source": [
    "data_df[\"AG\"].unique()"
   ]
  },
  {
   "cell_type": "markdown",
   "metadata": {},
   "source": [
    "It seems there is a problematic value called \"discredit\" here and we have also some 0 and 1 that are interpreted as strings. Let's clean that."
   ]
  },
  {
   "cell_type": "code",
   "execution_count": 12,
   "metadata": {},
   "outputs": [
    {
     "data": {
      "text/plain": [
       "AG\n",
       "0            7440\n",
       "1            1559\n",
       "0             796\n",
       "1             204\n",
       "discredit       1\n",
       "Name: count, dtype: int64"
      ]
     },
     "execution_count": 12,
     "metadata": {},
     "output_type": "execute_result"
    }
   ],
   "source": [
    "data_df[\"AG\"].value_counts()"
   ]
  },
  {
   "cell_type": "markdown",
   "metadata": {},
   "source": [
    "We have more 0 than 1. So, we will replace discredit by 0 and cast all the column to int."
   ]
  },
  {
   "cell_type": "code",
   "execution_count": 13,
   "metadata": {},
   "outputs": [],
   "source": [
    "data_df.loc[data_df[\"AG\"] == \"discredit\", \"AG\"] = 0\n",
    "data_df[\"AG\"] = data_df[\"AG\"].astype(int)"
   ]
  },
  {
   "cell_type": "code",
   "execution_count": 14,
   "metadata": {},
   "outputs": [
    {
     "data": {
      "text/plain": [
       "AG\n",
       "0    8237\n",
       "1    1763\n",
       "Name: count, dtype: int64"
      ]
     },
     "execution_count": 14,
     "metadata": {},
     "output_type": "execute_result"
    }
   ],
   "source": [
    "data_df[\"AG\"].value_counts()"
   ]
  },
  {
   "cell_type": "markdown",
   "metadata": {},
   "source": [
    "### **Step 1 : Clean the tweets**"
   ]
  },
  {
   "cell_type": "markdown",
   "metadata": {},
   "source": [
    "We will have two levels of cleaning for the tweets. The first one will be the level we obtain by applying the clean method of tweet preprocessor. This one will remove links, mentions and hashtags. The second one will be the classic approaches (lemmatization, removing stopwords, etc.). It will be done after the first one."
   ]
  },
  {
   "cell_type": "markdown",
   "metadata": {},
   "source": [
    "Note that we will use the first level to get the entities and the second level to analyze the tweets later."
   ]
  },
  {
   "cell_type": "code",
   "execution_count": 15,
   "metadata": {},
   "outputs": [],
   "source": [
    "nlp = spacy.load(\"en_core_web_sm\")"
   ]
  },
  {
   "cell_type": "code",
   "execution_count": 16,
   "metadata": {},
   "outputs": [],
   "source": [
    "def preprocess(text):\n",
    "    # Lowercasing the characters\n",
    "    text = text.strip().lower()\n",
    "    # Removing of special characters\n",
    "    text = re.sub(r'[^\\w\\s]', '', text)\n",
    "    # Lemmatization + Stopwords/Punctuations removal\n",
    "    tokens = nlp(text)\n",
    "    filtered_tokens = []\n",
    "    for token in tokens:\n",
    "        if ((len(token.text.strip()) > 1) and (token.pos_ not in [\"PRON\", \"PUNCT\"])\n",
    "        and (not token.text in nlp.Defaults.stop_words)):\n",
    "            if (not token.lemma_ in nlp.Defaults.stop_words):\n",
    "                filtered_tokens.append(str(token.lemma_))\n",
    "    return \" \".join(filtered_tokens)"
   ]
  },
  {
   "cell_type": "code",
   "execution_count": 17,
   "metadata": {},
   "outputs": [],
   "source": [
    "# First level (removal of links)\n",
    "data_df[\"tweet_1\"] = data_df[\"text\"].apply(p.clean)\n",
    "\n",
    "# Second level (first level + lemmatization + stopwords and punctuations removal)\n",
    "data_df[\"tweet_2\"] = data_df[\"tweet_1\"].apply(preprocess)"
   ]
  },
  {
   "cell_type": "code",
   "execution_count": 18,
   "metadata": {},
   "outputs": [
    {
     "data": {
      "text/plain": [
       "0                                     Hurray, saving us $$$ in so many ways\n",
       "1    Why would young fighting age men be the vast majority of the ones esca\n",
       "2    Illegals Dump their Kids at the border like Road Kill and Refuse to Un\n",
       "3    NY Times: 'Nearly All White' States Pose 'an Array of Problems' for Im\n",
       "4    Orban in Brussels: European leaders are ignoring the will of the peopl\n",
       "Name: tweet_1, dtype: object"
      ]
     },
     "execution_count": 18,
     "metadata": {},
     "output_type": "execute_result"
    }
   ],
   "source": [
    "data_df[\"tweet_1\"].str[:70].head()"
   ]
  },
  {
   "cell_type": "code",
   "execution_count": 19,
   "metadata": {},
   "outputs": [
    {
     "data": {
      "text/plain": [
       "0                                                           hurray save way\n",
       "1    young fighting age man vast majority escape war amp fight like woman c\n",
       "2    illegal dump kid border like road kill refuse unite hope amnesty free \n",
       "3                   ny time nearly white state pose array problem immigrant\n",
       "4                 orban brussels european leader ignore people want migrant\n",
       "Name: tweet_2, dtype: object"
      ]
     },
     "execution_count": 19,
     "metadata": {},
     "output_type": "execute_result"
    }
   ],
   "source": [
    "data_df[\"tweet_2\"].str[:70].head()"
   ]
  },
  {
   "cell_type": "markdown",
   "metadata": {},
   "source": [
    "### **Step 2 : Get the mentions/personalities**"
   ]
  },
  {
   "cell_type": "code",
   "execution_count": 20,
   "metadata": {},
   "outputs": [],
   "source": [
    "def get_mentions(text):\n",
    "    return re.findall(r\"@\\w+\", text)"
   ]
  },
  {
   "cell_type": "code",
   "execution_count": 21,
   "metadata": {},
   "outputs": [
    {
     "data": {
      "text/plain": [
       "['@user1', '@another_user', '@test']"
      ]
     },
     "execution_count": 21,
     "metadata": {},
     "output_type": "execute_result"
    }
   ],
   "source": [
    "get_mentions(\"Hello, @user1! How are you doing? @another_user and @test are here.\")"
   ]
  },
  {
   "cell_type": "code",
   "execution_count": 22,
   "metadata": {},
   "outputs": [],
   "source": [
    "data_df[\"mentions\"] = data_df[\"text\"].apply(get_mentions)"
   ]
  },
  {
   "cell_type": "code",
   "execution_count": 23,
   "metadata": {},
   "outputs": [
    {
     "data": {
      "text/plain": [
       "0    [@potus, @realDonaldTrump]\n",
       "1                            []\n",
       "2               [@KamalaHarris]\n",
       "3                            []\n",
       "4                            []\n",
       "Name: mentions, dtype: object"
      ]
     },
     "execution_count": 23,
     "metadata": {},
     "output_type": "execute_result"
    }
   ],
   "source": [
    "data_df[\"mentions\"].head()"
   ]
  },
  {
   "cell_type": "markdown",
   "metadata": {},
   "source": [
    "### **Step 3 : Get the themes**"
   ]
  },
  {
   "cell_type": "code",
   "execution_count": 24,
   "metadata": {},
   "outputs": [],
   "source": [
    "# It is token created using a temporary mail. So there are no security issues.\n",
    "tagme.GCUBE_TOKEN = \"8dd02590-fe1f-41b2-a9d9-ca34da522ebe-843339462\"\n",
    "\n",
    "def extract_entities(text):\n",
    "    annotation = tagme.annotate(text)\n",
    "    entities = {}\n",
    "    if annotation:\n",
    "        entities = {entity.entity_title for entity in annotation.annotations if entity.score > 0.1}\n",
    "    return list(entities)"
   ]
  },
  {
   "cell_type": "code",
   "execution_count": 25,
   "metadata": {},
   "outputs": [
    {
     "data": {
      "text/plain": [
       "['Immigration to the United States', 'Donald Trump']"
      ]
     },
     "execution_count": 25,
     "metadata": {},
     "output_type": "execute_result"
    }
   ],
   "source": [
    "extract_entities(\"trump immigration policy bad\")"
   ]
  },
  {
   "cell_type": "code",
   "execution_count": 26,
   "metadata": {},
   "outputs": [],
   "source": [
    "# Due to computation issues, the following code can't be executed.\n",
    "# So, we formerly do batch extractions and combine all the results in a file that will be loaded each time \n",
    "\n",
    "# data_df[\"entities\"] = data_df[\"tweet_1\"].apply(extract_entities)\n",
    "# ast.literal is to convert string to list\n",
    "\n",
    "# Loading of entities extracted\n",
    "\n",
    "data_df[\"themes\"] = pd.read_csv(\"./computed_data/entities.csv\")[\"entities\"].apply(ast.literal_eval)"
   ]
  },
  {
   "cell_type": "code",
   "execution_count": 27,
   "metadata": {},
   "outputs": [
    {
     "data": {
      "text/plain": [
       "0                                                                                      []\n",
       "1       [Refugee, Domestic violence, Old age, Age of majority, Europe, Neil Young, Child]\n",
       "2    [Nation state, Amnesty International, Welfare, Fraud, Roadkill, Law, Free education]\n",
       "3        [U.S. state, Race and ethnicity in the United States Census, The New York Times]\n",
       "4               [Brussels, Viktor Orbán, Popular sovereignty, Leadership, European Union]\n",
       "Name: themes, dtype: object"
      ]
     },
     "execution_count": 27,
     "metadata": {},
     "output_type": "execute_result"
    }
   ],
   "source": [
    "data_df[\"themes\"].head()"
   ]
  },
  {
   "cell_type": "markdown",
   "metadata": {},
   "source": [
    "Move name entities to mentions list"
   ]
  },
  {
   "cell_type": "code",
   "execution_count": 28,
   "metadata": {
    "scrolled": true
   },
   "outputs": [],
   "source": [
    "def update_themes(row):\n",
    "    updated_themes = []\n",
    "    mentions = row[\"mentions\"]\n",
    "    for entity in row[\"themes\"]:\n",
    "        tokens = nlp(entity)\n",
    "        for token in tokens.ents:\n",
    "            if token.label_ == \"PERSON\":\n",
    "                mentions.append(token.text)\n",
    "            else:\n",
    "                updated_themes.append(token.text)\n",
    "    row[\"themes\"] = updated_themes\n",
    "    row[\"mentions\"] = mentions\n",
    "    return row"
   ]
  },
  {
   "cell_type": "code",
   "execution_count": 29,
   "metadata": {},
   "outputs": [
    {
     "data": {
      "text/html": [
       "<div>\n",
       "<style scoped>\n",
       "    .dataframe tbody tr th:only-of-type {\n",
       "        vertical-align: middle;\n",
       "    }\n",
       "\n",
       "    .dataframe tbody tr th {\n",
       "        vertical-align: top;\n",
       "    }\n",
       "\n",
       "    .dataframe thead th {\n",
       "        text-align: right;\n",
       "    }\n",
       "</style>\n",
       "<table border=\"1\" class=\"dataframe\">\n",
       "  <thead>\n",
       "    <tr style=\"text-align: right;\">\n",
       "      <th></th>\n",
       "      <th>text</th>\n",
       "      <th>HS</th>\n",
       "      <th>TR</th>\n",
       "      <th>AG</th>\n",
       "      <th>tweet_1</th>\n",
       "      <th>tweet_2</th>\n",
       "      <th>mentions</th>\n",
       "      <th>themes</th>\n",
       "    </tr>\n",
       "  </thead>\n",
       "  <tbody>\n",
       "    <tr>\n",
       "      <th>0</th>\n",
       "      <td>Hurray, saving us $$$ in so many ways @potus @realDonaldTrump #LockThemUp #BuildTheWall #EndDACA #BoycottNFL #BoycottNike</td>\n",
       "      <td>1</td>\n",
       "      <td>0</td>\n",
       "      <td>0</td>\n",
       "      <td>Hurray, saving us $$$ in so many ways</td>\n",
       "      <td>hurray save way</td>\n",
       "      <td>[@potus, @realDonaldTrump]</td>\n",
       "      <td>[]</td>\n",
       "    </tr>\n",
       "    <tr>\n",
       "      <th>1</th>\n",
       "      <td>Why would young fighting age men be the vast majority of the ones escaping a war &amp;amp; not those who cannot fight like women, children, and the elderly?It's because the majority of the refugees are not actually refugees they are economic migrants trying to get into Europe.... https://t.co/Ks0SHbtYqn</td>\n",
       "      <td>1</td>\n",
       "      <td>0</td>\n",
       "      <td>0</td>\n",
       "      <td>Why would young fighting age men be the vast majority of the ones escaping a war &amp;amp; not those who cannot fight like women, children, and the elderly?It's because the majority of the refugees are not actually refugees they are economic migrants trying to get into Europe....</td>\n",
       "      <td>young fighting age man vast majority escape war amp fight like woman child elderlyit majority refugee actually refugee economic migrant try europe</td>\n",
       "      <td>[]</td>\n",
       "      <td>[Refugee, Domestic violence, Old age, Age of majority, Europe, Neil Young, Child]</td>\n",
       "    </tr>\n",
       "    <tr>\n",
       "      <th>2</th>\n",
       "      <td>@KamalaHarris Illegals Dump their Kids at the border like Road Kill and Refuse to Unite! They Hope they get Amnesty, Free Education and Welfare Illegal #FamilesBelongTogether in their Country not on the Taxpayer Dime Its a SCAM #NoDACA #NoAmnesty #SendThe</td>\n",
       "      <td>1</td>\n",
       "      <td>0</td>\n",
       "      <td>0</td>\n",
       "      <td>Illegals Dump their Kids at the border like Road Kill and Refuse to Unite! They Hope they get Amnesty, Free Education and Welfare Illegal in their Country not on the Taxpayer Dime Its a SCAM</td>\n",
       "      <td>illegal dump kid border like road kill refuse unite hope amnesty free education welfare illegal country taxpayer dime scam</td>\n",
       "      <td>[@KamalaHarris]</td>\n",
       "      <td>[Nation state, Amnesty International, Welfare, Fraud, Roadkill, Law, Free education]</td>\n",
       "    </tr>\n",
       "    <tr>\n",
       "      <th>3</th>\n",
       "      <td>NY Times: 'Nearly All White' States Pose 'an Array of Problems' for Immigrants https://t.co/ACZKLhdMV9 https://t.co/CJAlSXCzR6</td>\n",
       "      <td>0</td>\n",
       "      <td>0</td>\n",
       "      <td>0</td>\n",
       "      <td>NY Times: 'Nearly All White' States Pose 'an Array of Problems' for Immigrants</td>\n",
       "      <td>ny time nearly white state pose array problem immigrant</td>\n",
       "      <td>[]</td>\n",
       "      <td>[U.S. state, Race and ethnicity in the United States Census, The New York Times]</td>\n",
       "    </tr>\n",
       "    <tr>\n",
       "      <th>4</th>\n",
       "      <td>Orban in Brussels: European leaders are ignoring the will of the people, they do not want migrants https://t.co/NeYFyqvYlX</td>\n",
       "      <td>0</td>\n",
       "      <td>0</td>\n",
       "      <td>0</td>\n",
       "      <td>Orban in Brussels: European leaders are ignoring the will of the people, they do not want migrants</td>\n",
       "      <td>orban brussels european leader ignore people want migrant</td>\n",
       "      <td>[]</td>\n",
       "      <td>[Brussels, Viktor Orbán, Popular sovereignty, Leadership, European Union]</td>\n",
       "    </tr>\n",
       "  </tbody>\n",
       "</table>\n",
       "</div>"
      ],
      "text/plain": [
       "                                                                                                                                                                                                                                                                                                           text  \\\n",
       "0                                                                                                                                                                                     Hurray, saving us $$$ in so many ways @potus @realDonaldTrump #LockThemUp #BuildTheWall #EndDACA #BoycottNFL #BoycottNike   \n",
       "1  Why would young fighting age men be the vast majority of the ones escaping a war &amp; not those who cannot fight like women, children, and the elderly?It's because the majority of the refugees are not actually refugees they are economic migrants trying to get into Europe.... https://t.co/Ks0SHbtYqn   \n",
       "2                                               @KamalaHarris Illegals Dump their Kids at the border like Road Kill and Refuse to Unite! They Hope they get Amnesty, Free Education and Welfare Illegal #FamilesBelongTogether in their Country not on the Taxpayer Dime Its a SCAM #NoDACA #NoAmnesty #SendThe   \n",
       "3                                                                                                                                                                                NY Times: 'Nearly All White' States Pose 'an Array of Problems' for Immigrants https://t.co/ACZKLhdMV9 https://t.co/CJAlSXCzR6   \n",
       "4                                                                                                                                                                                    Orban in Brussels: European leaders are ignoring the will of the people, they do not want migrants https://t.co/NeYFyqvYlX   \n",
       "\n",
       "   HS  TR  AG  \\\n",
       "0   1   0   0   \n",
       "1   1   0   0   \n",
       "2   1   0   0   \n",
       "3   0   0   0   \n",
       "4   0   0   0   \n",
       "\n",
       "                                                                                                                                                                                                                                                                                tweet_1  \\\n",
       "0                                                                                                                                                                                                                                                 Hurray, saving us $$$ in so many ways   \n",
       "1  Why would young fighting age men be the vast majority of the ones escaping a war &amp; not those who cannot fight like women, children, and the elderly?It's because the majority of the refugees are not actually refugees they are economic migrants trying to get into Europe....   \n",
       "2                                                                                        Illegals Dump their Kids at the border like Road Kill and Refuse to Unite! They Hope they get Amnesty, Free Education and Welfare Illegal in their Country not on the Taxpayer Dime Its a SCAM   \n",
       "3                                                                                                                                                                                                        NY Times: 'Nearly All White' States Pose 'an Array of Problems' for Immigrants   \n",
       "4                                                                                                                                                                                    Orban in Brussels: European leaders are ignoring the will of the people, they do not want migrants   \n",
       "\n",
       "                                                                                                                                              tweet_2  \\\n",
       "0                                                                                                                                     hurray save way   \n",
       "1  young fighting age man vast majority escape war amp fight like woman child elderlyit majority refugee actually refugee economic migrant try europe   \n",
       "2                          illegal dump kid border like road kill refuse unite hope amnesty free education welfare illegal country taxpayer dime scam   \n",
       "3                                                                                             ny time nearly white state pose array problem immigrant   \n",
       "4                                                                                           orban brussels european leader ignore people want migrant   \n",
       "\n",
       "                     mentions  \\\n",
       "0  [@potus, @realDonaldTrump]   \n",
       "1                          []   \n",
       "2             [@KamalaHarris]   \n",
       "3                          []   \n",
       "4                          []   \n",
       "\n",
       "                                                                                 themes  \n",
       "0                                                                                    []  \n",
       "1     [Refugee, Domestic violence, Old age, Age of majority, Europe, Neil Young, Child]  \n",
       "2  [Nation state, Amnesty International, Welfare, Fraud, Roadkill, Law, Free education]  \n",
       "3      [U.S. state, Race and ethnicity in the United States Census, The New York Times]  \n",
       "4             [Brussels, Viktor Orbán, Popular sovereignty, Leadership, European Union]  "
      ]
     },
     "execution_count": 29,
     "metadata": {},
     "output_type": "execute_result"
    }
   ],
   "source": [
    "data_df.head()"
   ]
  },
  {
   "cell_type": "code",
   "execution_count": 30,
   "metadata": {},
   "outputs": [],
   "source": [
    "data_df = data_df.apply(update_themes, axis=1)"
   ]
  },
  {
   "cell_type": "code",
   "execution_count": 31,
   "metadata": {},
   "outputs": [],
   "source": [
    "data_df = data_df.rename(columns={\"text\": \"tweet\"})"
   ]
  },
  {
   "cell_type": "code",
   "execution_count": 32,
   "metadata": {},
   "outputs": [],
   "source": [
    "data_df = data_df[[\"tweet\", \"tweet_1\", \"tweet_2\", \"mentions\", \"themes\", \"HS\", \"TR\", \"AG\"]]"
   ]
  },
  {
   "cell_type": "code",
   "execution_count": 33,
   "metadata": {},
   "outputs": [
    {
     "data": {
      "text/html": [
       "<div>\n",
       "<style scoped>\n",
       "    .dataframe tbody tr th:only-of-type {\n",
       "        vertical-align: middle;\n",
       "    }\n",
       "\n",
       "    .dataframe tbody tr th {\n",
       "        vertical-align: top;\n",
       "    }\n",
       "\n",
       "    .dataframe thead th {\n",
       "        text-align: right;\n",
       "    }\n",
       "</style>\n",
       "<table border=\"1\" class=\"dataframe\">\n",
       "  <thead>\n",
       "    <tr style=\"text-align: right;\">\n",
       "      <th></th>\n",
       "      <th>tweet</th>\n",
       "      <th>tweet_1</th>\n",
       "      <th>tweet_2</th>\n",
       "      <th>mentions</th>\n",
       "      <th>themes</th>\n",
       "      <th>HS</th>\n",
       "      <th>TR</th>\n",
       "      <th>AG</th>\n",
       "    </tr>\n",
       "  </thead>\n",
       "  <tbody>\n",
       "    <tr>\n",
       "      <th>0</th>\n",
       "      <td>Hurray, saving us $$$ in so many ways @potus @realDonaldTrump #LockThemUp #BuildTheWall #EndDACA #BoycottNFL #BoycottNike</td>\n",
       "      <td>Hurray, saving us $$$ in so many ways</td>\n",
       "      <td>hurray save way</td>\n",
       "      <td>[@potus, @realDonaldTrump]</td>\n",
       "      <td>[]</td>\n",
       "      <td>1</td>\n",
       "      <td>0</td>\n",
       "      <td>0</td>\n",
       "    </tr>\n",
       "    <tr>\n",
       "      <th>1</th>\n",
       "      <td>Why would young fighting age men be the vast majority of the ones escaping a war &amp;amp; not those who cannot fight like women, children, and the elderly?It's because the majority of the refugees are not actually refugees they are economic migrants trying to get into Europe.... https://t.co/Ks0SHbtYqn</td>\n",
       "      <td>Why would young fighting age men be the vast majority of the ones escaping a war &amp;amp; not those who cannot fight like women, children, and the elderly?It's because the majority of the refugees are not actually refugees they are economic migrants trying to get into Europe....</td>\n",
       "      <td>young fighting age man vast majority escape war amp fight like woman child elderlyit majority refugee actually refugee economic migrant try europe</td>\n",
       "      <td>[Neil Young]</td>\n",
       "      <td>[Europe]</td>\n",
       "      <td>1</td>\n",
       "      <td>0</td>\n",
       "      <td>0</td>\n",
       "    </tr>\n",
       "    <tr>\n",
       "      <th>2</th>\n",
       "      <td>@KamalaHarris Illegals Dump their Kids at the border like Road Kill and Refuse to Unite! They Hope they get Amnesty, Free Education and Welfare Illegal #FamilesBelongTogether in their Country not on the Taxpayer Dime Its a SCAM #NoDACA #NoAmnesty #SendThe</td>\n",
       "      <td>Illegals Dump their Kids at the border like Road Kill and Refuse to Unite! They Hope they get Amnesty, Free Education and Welfare Illegal in their Country not on the Taxpayer Dime Its a SCAM</td>\n",
       "      <td>illegal dump kid border like road kill refuse unite hope amnesty free education welfare illegal country taxpayer dime scam</td>\n",
       "      <td>[@KamalaHarris]</td>\n",
       "      <td>[Amnesty International, Fraud]</td>\n",
       "      <td>1</td>\n",
       "      <td>0</td>\n",
       "      <td>0</td>\n",
       "    </tr>\n",
       "    <tr>\n",
       "      <th>3</th>\n",
       "      <td>NY Times: 'Nearly All White' States Pose 'an Array of Problems' for Immigrants https://t.co/ACZKLhdMV9 https://t.co/CJAlSXCzR6</td>\n",
       "      <td>NY Times: 'Nearly All White' States Pose 'an Array of Problems' for Immigrants</td>\n",
       "      <td>ny time nearly white state pose array problem immigrant</td>\n",
       "      <td>[]</td>\n",
       "      <td>[U.S., the United States Census, The New York Times]</td>\n",
       "      <td>0</td>\n",
       "      <td>0</td>\n",
       "      <td>0</td>\n",
       "    </tr>\n",
       "    <tr>\n",
       "      <th>4</th>\n",
       "      <td>Orban in Brussels: European leaders are ignoring the will of the people, they do not want migrants https://t.co/NeYFyqvYlX</td>\n",
       "      <td>Orban in Brussels: European leaders are ignoring the will of the people, they do not want migrants</td>\n",
       "      <td>orban brussels european leader ignore people want migrant</td>\n",
       "      <td>[Viktor Orbán]</td>\n",
       "      <td>[Brussels, European Union]</td>\n",
       "      <td>0</td>\n",
       "      <td>0</td>\n",
       "      <td>0</td>\n",
       "    </tr>\n",
       "  </tbody>\n",
       "</table>\n",
       "</div>"
      ],
      "text/plain": [
       "                                                                                                                                                                                                                                                                                                          tweet  \\\n",
       "0                                                                                                                                                                                     Hurray, saving us $$$ in so many ways @potus @realDonaldTrump #LockThemUp #BuildTheWall #EndDACA #BoycottNFL #BoycottNike   \n",
       "1  Why would young fighting age men be the vast majority of the ones escaping a war &amp; not those who cannot fight like women, children, and the elderly?It's because the majority of the refugees are not actually refugees they are economic migrants trying to get into Europe.... https://t.co/Ks0SHbtYqn   \n",
       "2                                               @KamalaHarris Illegals Dump their Kids at the border like Road Kill and Refuse to Unite! They Hope they get Amnesty, Free Education and Welfare Illegal #FamilesBelongTogether in their Country not on the Taxpayer Dime Its a SCAM #NoDACA #NoAmnesty #SendThe   \n",
       "3                                                                                                                                                                                NY Times: 'Nearly All White' States Pose 'an Array of Problems' for Immigrants https://t.co/ACZKLhdMV9 https://t.co/CJAlSXCzR6   \n",
       "4                                                                                                                                                                                    Orban in Brussels: European leaders are ignoring the will of the people, they do not want migrants https://t.co/NeYFyqvYlX   \n",
       "\n",
       "                                                                                                                                                                                                                                                                                tweet_1  \\\n",
       "0                                                                                                                                                                                                                                                 Hurray, saving us $$$ in so many ways   \n",
       "1  Why would young fighting age men be the vast majority of the ones escaping a war &amp; not those who cannot fight like women, children, and the elderly?It's because the majority of the refugees are not actually refugees they are economic migrants trying to get into Europe....   \n",
       "2                                                                                        Illegals Dump their Kids at the border like Road Kill and Refuse to Unite! They Hope they get Amnesty, Free Education and Welfare Illegal in their Country not on the Taxpayer Dime Its a SCAM   \n",
       "3                                                                                                                                                                                                        NY Times: 'Nearly All White' States Pose 'an Array of Problems' for Immigrants   \n",
       "4                                                                                                                                                                                    Orban in Brussels: European leaders are ignoring the will of the people, they do not want migrants   \n",
       "\n",
       "                                                                                                                                              tweet_2  \\\n",
       "0                                                                                                                                     hurray save way   \n",
       "1  young fighting age man vast majority escape war amp fight like woman child elderlyit majority refugee actually refugee economic migrant try europe   \n",
       "2                          illegal dump kid border like road kill refuse unite hope amnesty free education welfare illegal country taxpayer dime scam   \n",
       "3                                                                                             ny time nearly white state pose array problem immigrant   \n",
       "4                                                                                           orban brussels european leader ignore people want migrant   \n",
       "\n",
       "                     mentions  \\\n",
       "0  [@potus, @realDonaldTrump]   \n",
       "1                [Neil Young]   \n",
       "2             [@KamalaHarris]   \n",
       "3                          []   \n",
       "4              [Viktor Orbán]   \n",
       "\n",
       "                                                 themes  HS  TR  AG  \n",
       "0                                                    []   1   0   0  \n",
       "1                                              [Europe]   1   0   0  \n",
       "2                        [Amnesty International, Fraud]   1   0   0  \n",
       "3  [U.S., the United States Census, The New York Times]   0   0   0  \n",
       "4                            [Brussels, European Union]   0   0   0  "
      ]
     },
     "execution_count": 33,
     "metadata": {},
     "output_type": "execute_result"
    }
   ],
   "source": [
    "data_df.head()"
   ]
  },
  {
   "cell_type": "code",
   "execution_count": 34,
   "metadata": {
    "id": "_7PXPdtySohq"
   },
   "outputs": [],
   "source": [
    "data_df.to_csv(\"./computed_data/hatEval.csv\", index=False)"
   ]
  },
  {
   "cell_type": "markdown",
   "metadata": {
    "id": "6GvHvlL8YBHq"
   },
   "source": [
    "## **Analyzing the data**"
   ]
  },
  {
   "cell_type": "markdown",
   "metadata": {
    "id": "eK8tLrVIYUqJ"
   },
   "source": [
    "#### **Distribution of the speeches**"
   ]
  },
  {
   "cell_type": "code",
   "execution_count": 35,
   "metadata": {},
   "outputs": [
    {
     "data": {
      "text/plain": [
       "HS\n",
       "0    5790\n",
       "1    4210\n",
       "Name: count, dtype: int64"
      ]
     },
     "execution_count": 35,
     "metadata": {},
     "output_type": "execute_result"
    }
   ],
   "source": [
    "data_df[\"HS\"].value_counts()"
   ]
  },
  {
   "cell_type": "code",
   "execution_count": 36,
   "metadata": {
    "colab": {
     "base_uri": "https://localhost:8080/",
     "height": 445
    },
    "id": "yJfmzWq2YHEd",
    "outputId": "56ffe62b-dcea-4bd8-f986-9ed21b074776"
   },
   "outputs": [
    {
     "data": {
      "image/png": "[encoded data removed]",
      "text/plain": [
       "<Figure size 640x480 with 1 Axes>"
      ]
     },
     "metadata": {},
     "output_type": "display_data"
    }
   ],
   "source": [
    "data_df[\"HS\"].value_counts().plot(kind=\"bar\", xlabel=\"Speech nature\", ylabel=\"Number\",\n",
    "                                  title=\"Distribution of speeches\")\n",
    "plt.show()"
   ]
  },
  {
   "cell_type": "markdown",
   "metadata": {
    "id": "KFdeomahY0xi"
   },
   "source": [
    "There are **5790 normal tweets** and **4210 hate tweets**."
   ]
  },
  {
   "cell_type": "markdown",
   "metadata": {
    "id": "z-IpqQgibOQj"
   },
   "source": [
    "Let's analyze each type of tweet."
   ]
  },
  {
   "cell_type": "code",
   "execution_count": 37,
   "metadata": {},
   "outputs": [],
   "source": [
    "violent_tweets = data_df[data_df[\"HS\"] == 1]\n",
    "non_violent_tweets = data_df[data_df[\"HS\"] == 0]"
   ]
  },
  {
   "cell_type": "markdown",
   "metadata": {},
   "source": [
    "#### **Counts and Lengths of the tweets**"
   ]
  },
  {
   "cell_type": "code",
   "execution_count": 38,
   "metadata": {},
   "outputs": [
    {
     "name": "stdout",
     "output_type": "stream",
     "text": [
      "Average length of violent tweets:  111.64109263657957\n",
      "Average length of non violent tweets:  108.15112262521589\n"
     ]
    }
   ],
   "source": [
    "print(\"Average length of violent tweets: \", violent_tweets[\"tweet_1\"].str.len().mean())\n",
    "print(\"Average length of non violent tweets: \", non_violent_tweets[\"tweet_1\"].str.len().mean())"
   ]
  },
  {
   "cell_type": "code",
   "execution_count": 39,
   "metadata": {},
   "outputs": [],
   "source": [
    "def count_words(text):\n",
    "    return (len(text.split(\" \")))"
   ]
  },
  {
   "cell_type": "code",
   "execution_count": 40,
   "metadata": {},
   "outputs": [
    {
     "name": "stdout",
     "output_type": "stream",
     "text": [
      "Average number of words of violent tweets:  20.326365795724467\n",
      "Average number of words of non violent tweets:  19.117098445595854\n"
     ]
    }
   ],
   "source": [
    "print(\"Average number of words of violent tweets: \", violent_tweets[\"tweet_1\"].apply(count_words).mean())\n",
    "print(\"Average number of words of non violent tweets: \", non_violent_tweets[\"tweet_1\"].apply(count_words).mean())"
   ]
  },
  {
   "cell_type": "markdown",
   "metadata": {},
   "source": [
    "The size is not really a factor to differentiate an hate speech from an non-hate speech."
   ]
  },
  {
   "cell_type": "markdown",
   "metadata": {},
   "source": [
    "#### **Frequent words in each type of tweet**"
   ]
  },
  {
   "cell_type": "code",
   "execution_count": 41,
   "metadata": {
    "id": "ReifkF43Zg21"
   },
   "outputs": [],
   "source": [
    "# Most frequent words in violent tweets\n",
    "violent_words = [word for tweet in violent_tweets[\"tweet_2\"] for word in tweet.split()]\n",
    "common_violent_words = Counter(violent_words).most_common(20)\n",
    "\n",
    "# Most frequent words in non-violent tweets\n",
    "non_violent_words = [word for tweet in non_violent_tweets[\"tweet_2\"] for word in tweet.split()]\n",
    "common_non_violent_words = Counter(non_violent_words).most_common(20)"
   ]
  },
  {
   "cell_type": "code",
   "execution_count": 42,
   "metadata": {
    "colab": {
     "base_uri": "https://localhost:8080/",
     "height": 545
    },
    "id": "kW1Lb_KlZkVv",
    "outputId": "ee57d545-5bf8-4121-de90-1a930bc267f5"
   },
   "outputs": [
    {
     "data": {
      "image/png": "[encoded data removed]",
      "text/plain": [
       "<Figure size 1400x600 with 2 Axes>"
      ]
     },
     "metadata": {},
     "output_type": "display_data"
    }
   ],
   "source": [
    "# Frequent word display\n",
    "fig, ax = plt.subplots(1, 2, figsize=(14,6))\n",
    "\n",
    "sns.barplot(x=[w[1] for w in common_violent_words], y=[w[0] for w in common_violent_words], ax=ax[0], color=\"red\")\n",
    "ax[0].set_title(\"Most frequent words in violent tweets\")\n",
    "\n",
    "sns.barplot(x=[w[1] for w in common_non_violent_words], y=[w[0] for w in common_non_violent_words], ax=ax[1], color=\"blue\")\n",
    "ax[1].set_title(\"Most frequent words in non-violent tweets\")\n",
    "\n",
    "plt.show()"
   ]
  },
  {
   "cell_type": "markdown",
   "metadata": {},
   "source": [
    "#### **Frequent mentions in each type of tweet**"
   ]
  },
  {
   "cell_type": "markdown",
   "metadata": {
    "id": "9hhOwwu-bR3b"
   },
   "source": [
    "Let's analyze the frequent personalities."
   ]
  },
  {
   "cell_type": "code",
   "execution_count": 43,
   "metadata": {
    "id": "4Q4vlOg7dgvO"
   },
   "outputs": [],
   "source": [
    "def count_personalities(df):\n",
    "    all_personalities = [person for sublist in df[\"mentions\"] for person in sublist]\n",
    "    return Counter(all_personalities).most_common(20)  # Top 20"
   ]
  },
  {
   "cell_type": "code",
   "execution_count": 44,
   "metadata": {
    "id": "WOvDlt37dkvU"
   },
   "outputs": [],
   "source": [
    "hate_personalities = count_personalities(violent_tweets)\n",
    "non_hate_personalities = count_personalities(non_violent_tweets)\n",
    "df_hate = pd.DataFrame(hate_personalities, columns=[\"Mentions\", \"Occurence\"])\n",
    "df_non_hate = pd.DataFrame(non_hate_personalities, columns=[\"Mentions\", \"Occurence\"])"
   ]
  },
  {
   "cell_type": "code",
   "execution_count": 45,
   "metadata": {
    "colab": {
     "base_uri": "https://localhost:8080/",
     "height": 872
    },
    "id": "mttewulwd2zH",
    "outputId": "721122b0-1a6e-49ea-fcb9-c0e6eb892822"
   },
   "outputs": [
    {
     "data": {
      "image/png": "[encoded data removed]",
      "text/plain": [
       "<Figure size 1200x1000 with 2 Axes>"
      ]
     },
     "metadata": {},
     "output_type": "display_data"
    }
   ],
   "source": [
    "fig, ax = plt.subplots(2, 1, figsize=(12, 10))\n",
    "\n",
    "# Graphique pour les tweets haineux\n",
    "sns.barplot(data=df_hate, x=\"Occurence\", y=\"Mentions\", ax=ax[0], color=\"red\")\n",
    "ax[0].set_title(\"Most frequent mentions in hateful tweets\")\n",
    "\n",
    "# Graphique pour les tweets non haineux\n",
    "sns.barplot(data=df_non_hate, x=\"Occurence\", y=\"Mentions\", color=\"blue\")\n",
    "ax[1].set_title(\"Most frequent mentions in non-hateful tweets\")\n",
    "\n",
    "plt.show()"
   ]
  },
  {
   "cell_type": "markdown",
   "metadata": {
    "id": "hSwucuhFtzdC"
   },
   "source": [
    "## **Sources**"
   ]
  },
  {
   "cell_type": "markdown",
   "metadata": {
    "id": "ptsWOq0Yt1lb"
   },
   "source": [
    "* https://github.com/marcocor/tagme-python\n",
    "* https://github.com/s/preprocessor\n",
    "* https://stackoverflow.com/questions/23111990/pandas-dataframe-stored-list-as-string-how-to-convert-back-to-list"
   ]
  }
 ],
 "metadata": {
  "colab": {
   "provenance": []
  },
  "kernelspec": {
   "display_name": "venv (3.12.3)",
   "language": "python",
   "name": "python3"
  },
  "language_info": {
   "codemirror_mode": {
    "name": "ipython",
    "version": 3
   },
   "file_extension": ".py",
   "mimetype": "text/x-python",
   "name": "python",
   "nbconvert_exporter": "python",
   "pygments_lexer": "ipython3",
   "version": "3.12.3"
  }
 },
 "nbformat": 4,
 "nbformat_minor": 4
}
