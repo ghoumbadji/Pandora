{
 "cells": [
  {
   "cell_type": "markdown",
   "metadata": {
    "id": "nK_hEhbKxJqz"
   },
   "source": [
    "## **Setting up the environment**\n"
   ]
  },
  {
   "cell_type": "code",
   "execution_count": 1,
   "metadata": {
    "id": "XwKH7ni1qNil"
   },
   "outputs": [
    {
     "name": "stderr",
     "output_type": "stream",
     "text": [
      "2025-09-07 15:35:46.297788: I external/local_xla/xla/tsl/cuda/cudart_stub.cc:31] Could not find cuda drivers on your machine, GPU will not be used.\n",
      "2025-09-07 15:35:46.564045: I tensorflow/core/platform/cpu_feature_guard.cc:210] This TensorFlow binary is optimized to use available CPU instructions in performance-critical operations.\n",
      "To enable the following instructions: AVX2 FMA, in other operations, rebuild TensorFlow with the appropriate compiler flags.\n",
      "2025-09-07 15:35:48.118373: I external/local_xla/xla/tsl/cuda/cudart_stub.cc:31] Could not find cuda drivers on your machine, GPU will not be used.\n"
     ]
    }
   ],
   "source": [
    "# General libraries\n",
    "import numpy as np\n",
    "import pandas as pd\n",
    "import ast\n",
    "import matplotlib.pyplot as plt\n",
    "import seaborn as sns\n",
    "\n",
    "# Graph related libraries\n",
    "import networkx as nx\n",
    "from node2vec import Node2Vec\n",
    "\n",
    "# Machine learning libraries\n",
    "import gensim\n",
    "from gensim.models import FastText\n",
    "from sklearn.metrics import precision_score, recall_score, f1_score\n",
    "import tensorflow as tf\n",
    "from tensorflow.keras import Sequential\n",
    "from tensorflow.keras.preprocessing.sequence import pad_sequences\n",
    "from tensorflow.keras.layers import LSTM, Bidirectional, Dense, Concatenate, Input, Dropout\n",
    "from tensorflow.keras.models import Model"
   ]
  },
  {
   "cell_type": "markdown",
   "metadata": {
    "id": "gqTX9GIpxVHv"
   },
   "source": [
    "## **Loading the data**"
   ]
  },
  {
   "cell_type": "markdown",
   "metadata": {
    "id": "_2V-OFYBR6vP"
   },
   "source": [
    "We will load the HatEval dataset. It is a dataset about violence against women and immigrants."
   ]
  },
  {
   "cell_type": "code",
   "execution_count": 2,
   "metadata": {
    "id": "AW04zqtNxZxv"
   },
   "outputs": [],
   "source": [
    "hatEval_df = pd.read_csv(\"./computed_data/hatEval.csv\")\n",
    "\n",
    "# Lists are loaded as strings. So it is important to get their normal form.\n",
    "hatEval_df[\"mentions\"] = hatEval_df[\"mentions\"].apply(ast.literal_eval)\n",
    "hatEval_df[\"themes\"] = hatEval_df[\"themes\"].apply(ast.literal_eval)"
   ]
  },
  {
   "cell_type": "code",
   "execution_count": 3,
   "metadata": {
    "colab": {
     "base_uri": "https://localhost:8080/",
     "height": 206
    },
    "id": "sPGylPGBh_oF",
    "outputId": "904f04fa-4ff8-4776-c4ba-00ef98a64260"
   },
   "outputs": [
    {
     "data": {
      "text/html": [
       "<div>\n",
       "<style scoped>\n",
       "    .dataframe tbody tr th:only-of-type {\n",
       "        vertical-align: middle;\n",
       "    }\n",
       "\n",
       "    .dataframe tbody tr th {\n",
       "        vertical-align: top;\n",
       "    }\n",
       "\n",
       "    .dataframe thead th {\n",
       "        text-align: right;\n",
       "    }\n",
       "</style>\n",
       "<table border=\"1\" class=\"dataframe\">\n",
       "  <thead>\n",
       "    <tr style=\"text-align: right;\">\n",
       "      <th></th>\n",
       "      <th>tweet</th>\n",
       "      <th>tweet_1</th>\n",
       "      <th>tweet_2</th>\n",
       "      <th>mentions</th>\n",
       "      <th>themes</th>\n",
       "      <th>HS</th>\n",
       "      <th>TR</th>\n",
       "      <th>AG</th>\n",
       "    </tr>\n",
       "  </thead>\n",
       "  <tbody>\n",
       "    <tr>\n",
       "      <th>0</th>\n",
       "      <td>Hurray, saving us $$$ in so many ways @potus @...</td>\n",
       "      <td>Hurray, saving us $$$ in so many ways</td>\n",
       "      <td>hurray save way</td>\n",
       "      <td>[@potus, @realDonaldTrump]</td>\n",
       "      <td>[]</td>\n",
       "      <td>1</td>\n",
       "      <td>0</td>\n",
       "      <td>0</td>\n",
       "    </tr>\n",
       "    <tr>\n",
       "      <th>1</th>\n",
       "      <td>Why would young fighting age men be the vast m...</td>\n",
       "      <td>Why would young fighting age men be the vast m...</td>\n",
       "      <td>young fighting age man vast majority escape wa...</td>\n",
       "      <td>[Neil Young]</td>\n",
       "      <td>[Europe]</td>\n",
       "      <td>1</td>\n",
       "      <td>0</td>\n",
       "      <td>0</td>\n",
       "    </tr>\n",
       "    <tr>\n",
       "      <th>2</th>\n",
       "      <td>@KamalaHarris Illegals Dump their Kids at the ...</td>\n",
       "      <td>Illegals Dump their Kids at the border like Ro...</td>\n",
       "      <td>illegal dump kid border like road kill refuse ...</td>\n",
       "      <td>[@KamalaHarris]</td>\n",
       "      <td>[Amnesty International, Fraud]</td>\n",
       "      <td>1</td>\n",
       "      <td>0</td>\n",
       "      <td>0</td>\n",
       "    </tr>\n",
       "    <tr>\n",
       "      <th>3</th>\n",
       "      <td>NY Times: 'Nearly All White' States Pose 'an A...</td>\n",
       "      <td>NY Times: 'Nearly All White' States Pose 'an A...</td>\n",
       "      <td>ny time nearly white state pose array problem ...</td>\n",
       "      <td>[]</td>\n",
       "      <td>[U.S., the United States Census, The New York ...</td>\n",
       "      <td>0</td>\n",
       "      <td>0</td>\n",
       "      <td>0</td>\n",
       "    </tr>\n",
       "    <tr>\n",
       "      <th>4</th>\n",
       "      <td>Orban in Brussels: European leaders are ignori...</td>\n",
       "      <td>Orban in Brussels: European leaders are ignori...</td>\n",
       "      <td>orban brussels european leader ignore people w...</td>\n",
       "      <td>[Viktor Orbán]</td>\n",
       "      <td>[Brussels, European Union]</td>\n",
       "      <td>0</td>\n",
       "      <td>0</td>\n",
       "      <td>0</td>\n",
       "    </tr>\n",
       "  </tbody>\n",
       "</table>\n",
       "</div>"
      ],
      "text/plain": [
       "                                               tweet  \\\n",
       "0  Hurray, saving us $$$ in so many ways @potus @...   \n",
       "1  Why would young fighting age men be the vast m...   \n",
       "2  @KamalaHarris Illegals Dump their Kids at the ...   \n",
       "3  NY Times: 'Nearly All White' States Pose 'an A...   \n",
       "4  Orban in Brussels: European leaders are ignori...   \n",
       "\n",
       "                                             tweet_1  \\\n",
       "0              Hurray, saving us $$$ in so many ways   \n",
       "1  Why would young fighting age men be the vast m...   \n",
       "2  Illegals Dump their Kids at the border like Ro...   \n",
       "3  NY Times: 'Nearly All White' States Pose 'an A...   \n",
       "4  Orban in Brussels: European leaders are ignori...   \n",
       "\n",
       "                                             tweet_2  \\\n",
       "0                                    hurray save way   \n",
       "1  young fighting age man vast majority escape wa...   \n",
       "2  illegal dump kid border like road kill refuse ...   \n",
       "3  ny time nearly white state pose array problem ...   \n",
       "4  orban brussels european leader ignore people w...   \n",
       "\n",
       "                     mentions  \\\n",
       "0  [@potus, @realDonaldTrump]   \n",
       "1                [Neil Young]   \n",
       "2             [@KamalaHarris]   \n",
       "3                          []   \n",
       "4              [Viktor Orbán]   \n",
       "\n",
       "                                              themes  HS  TR  AG  \n",
       "0                                                 []   1   0   0  \n",
       "1                                           [Europe]   1   0   0  \n",
       "2                     [Amnesty International, Fraud]   1   0   0  \n",
       "3  [U.S., the United States Census, The New York ...   0   0   0  \n",
       "4                         [Brussels, European Union]   0   0   0  "
      ]
     },
     "execution_count": 3,
     "metadata": {},
     "output_type": "execute_result"
    }
   ],
   "source": [
    "hatEval_df.head()"
   ]
  },
  {
   "cell_type": "code",
   "execution_count": 4,
   "metadata": {
    "colab": {
     "base_uri": "https://localhost:8080/"
    },
    "id": "aRtUYDHdm_tA",
    "outputId": "cde87250-54fb-4c37-bc0b-86b453cb6eda"
   },
   "outputs": [
    {
     "name": "stdout",
     "output_type": "stream",
     "text": [
      "<class 'pandas.core.frame.DataFrame'>\n",
      "RangeIndex: 10000 entries, 0 to 9999\n",
      "Data columns (total 8 columns):\n",
      " #   Column    Non-Null Count  Dtype \n",
      "---  ------    --------------  ----- \n",
      " 0   tweet     10000 non-null  object\n",
      " 1   tweet_1   9958 non-null   object\n",
      " 2   tweet_2   9924 non-null   object\n",
      " 3   mentions  10000 non-null  object\n",
      " 4   themes    10000 non-null  object\n",
      " 5   HS        10000 non-null  int64 \n",
      " 6   TR        10000 non-null  int64 \n",
      " 7   AG        10000 non-null  int64 \n",
      "dtypes: int64(3), object(5)\n",
      "memory usage: 625.1+ KB\n"
     ]
    }
   ],
   "source": [
    "hatEval_df.info()"
   ]
  },
  {
   "cell_type": "code",
   "execution_count": 5,
   "metadata": {},
   "outputs": [
    {
     "data": {
      "text/plain": [
       "tweet        0\n",
       "tweet_1     42\n",
       "tweet_2     76\n",
       "mentions     0\n",
       "themes       0\n",
       "HS           0\n",
       "TR           0\n",
       "AG           0\n",
       "dtype: int64"
      ]
     },
     "execution_count": 5,
     "metadata": {},
     "output_type": "execute_result"
    }
   ],
   "source": [
    "hatEval_df.isna().sum()"
   ]
  },
  {
   "cell_type": "code",
   "execution_count": 6,
   "metadata": {},
   "outputs": [],
   "source": [
    "hatEval_df = hatEval_df.dropna()"
   ]
  },
  {
   "cell_type": "code",
   "execution_count": 7,
   "metadata": {},
   "outputs": [
    {
     "data": {
      "text/plain": [
       "(9924, 8)"
      ]
     },
     "execution_count": 7,
     "metadata": {},
     "output_type": "execute_result"
    }
   ],
   "source": [
    "hatEval_df.shape"
   ]
  },
  {
   "cell_type": "markdown",
   "metadata": {
    "id": "zNy3XAQKGQIM"
   },
   "source": [
    "## **Building the knowledge graph**"
   ]
  },
  {
   "cell_type": "code",
   "execution_count": 8,
   "metadata": {},
   "outputs": [],
   "source": [
    "def build_knowledge_graph(df): \n",
    "    G = nx.Graph()\n",
    "    co_occurrence = {}  # Dictionary for counting co-occurrences\n",
    "\n",
    "    for _, row in df.iterrows():\n",
    "        mentions = row[\"mentions\"]\n",
    "        themes = row[\"themes\"]\n",
    "\n",
    "        # Add relationships between personalities (isMentionedWith)\n",
    "        for i in range(len(mentions)):\n",
    "            for j in range(i + 1, len(mentions)):\n",
    "                edge = tuple(sorted([mentions[i], mentions[j]]))\n",
    "                co_occurrence[edge] = co_occurrence.get(edge, 0) + 1\n",
    "\n",
    "        # Add relationships between personalities and themes (isLinkedTo)\n",
    "        for mention in mentions:\n",
    "            for theme in themes:\n",
    "                edge = (mention, theme)\n",
    "                co_occurrence[edge] = co_occurrence.get(edge, 0) + 1\n",
    "\n",
    "        # Add relationships between themes (isRelatedTo)\n",
    "        for i in range(len(themes)):\n",
    "            for j in range(i + 1, len(themes)):\n",
    "                edge = tuple(sorted([themes[i], themes[j]]))\n",
    "                co_occurrence[edge] = co_occurrence.get(edge, 0) + 1\n",
    "\n",
    "    # Add edges to the graph with their weights\n",
    "    for (node1, node2), weight in co_occurrence.items():\n",
    "        G.add_edge(node1, node2, weight=weight)\n",
    "\n",
    "    # Normalize the weights with Min-Max (between 0 and 1)\n",
    "    weights = [data[\"weight\"] for _, _, data in G.edges(data=True)]\n",
    "    min_weight = min(weights)\n",
    "    max_weight = max(weights)\n",
    "    for u, v, data in G.edges(data=True):\n",
    "        if max_weight > min_weight:\n",
    "            data[\"weight\"] = data[\"weight\"]/max_weight\n",
    "        else:\n",
    "            data[\"weight\"] = 1.0\n",
    "\n",
    "    # Add labels to nodes\n",
    "    for node in G.nodes():\n",
    "        if any(node in mentions for mentions in df[\"mentions\"]):\n",
    "            G.nodes[node][\"label\"] = \"Person\"\n",
    "        elif any(node in themes for themes in df[\"themes\"]):\n",
    "            G.nodes[node][\"label\"] = \"Theme\"\n",
    "\n",
    "    # Add labels to edges\n",
    "    for u, v, data in G.edges(data=True):\n",
    "        if G.nodes[u][\"label\"] == \"Person\" and G.nodes[v][\"label\"] == \"Person\":\n",
    "            data[\"relation\"] = \"isMentionedWith\"\n",
    "        elif G.nodes[u][\"label\"] == \"Theme\" and G.nodes[v][\"label\"] == \"Theme\":\n",
    "            data[\"relation\"] = \"isRelatedTo\"\n",
    "        else:\n",
    "            data[\"relation\"] = \"isLinkedTo\"\n",
    "\n",
    "    return G"
   ]
  },
  {
   "cell_type": "code",
   "execution_count": 9,
   "metadata": {},
   "outputs": [],
   "source": [
    "G = build_knowledge_graph(hatEval_df)"
   ]
  },
  {
   "cell_type": "code",
   "execution_count": 10,
   "metadata": {},
   "outputs": [
    {
     "data": {
      "text/plain": [
       "[('@potus', {'label': 'Person'}),\n",
       " ('@realDonaldTrump', {'label': 'Person'}),\n",
       " ('Neil Young', {'label': 'Person'}),\n",
       " ('Europe', {'label': 'Theme'}),\n",
       " ('@KamalaHarris', {'label': 'Person'})]"
      ]
     },
     "execution_count": 10,
     "metadata": {},
     "output_type": "execute_result"
    }
   ],
   "source": [
    "sample_nodes = list(G.nodes(data=True))[:5]\n",
    "sample_nodes"
   ]
  },
  {
   "cell_type": "code",
   "execution_count": 11,
   "metadata": {},
   "outputs": [
    {
     "data": {
      "text/plain": [
       "[('@potus',\n",
       "  '@realDonaldTrump',\n",
       "  {'weight': 0.16883116883116883, 'relation': 'isMentionedWith'}),\n",
       " ('@potus',\n",
       "  'George Soros',\n",
       "  {'weight': 0.012987012987012988, 'relation': 'isMentionedWith'}),\n",
       " ('@potus',\n",
       "  'Donald Trump',\n",
       "  {'weight': 0.012987012987012988, 'relation': 'isMentionedWith'}),\n",
       " ('@potus',\n",
       "  'Truth',\n",
       "  {'weight': 0.006493506493506494, 'relation': 'isLinkedTo'}),\n",
       " ('@potus',\n",
       "  'WELL',\n",
       "  {'weight': 0.006493506493506494, 'relation': 'isLinkedTo'})]"
      ]
     },
     "execution_count": 11,
     "metadata": {},
     "output_type": "execute_result"
    }
   ],
   "source": [
    "sample_edges = list(G.edges(data=True))[:5]\n",
    "sample_edges"
   ]
  },
  {
   "cell_type": "markdown",
   "metadata": {},
   "source": [
    "Display of a sample of the graph"
   ]
  },
  {
   "cell_type": "code",
   "execution_count": 12,
   "metadata": {},
   "outputs": [],
   "source": [
    "sample_nodes = list(G.nodes())[:10]\n",
    "G_sample = G.subgraph(sample_nodes)"
   ]
  },
  {
   "cell_type": "code",
   "execution_count": 13,
   "metadata": {},
   "outputs": [
    {
     "data": {
      "image/png": "[encoded data removed]",
      "text/plain": [
       "<Figure size 1000x1000 with 1 Axes>"
      ]
     },
     "metadata": {},
     "output_type": "display_data"
    }
   ],
   "source": [
    "plt.figure(figsize=(10, 10))\n",
    "\n",
    "elarge = [(u, v) for (u, v, d) in G_sample.edges(data=True) if d[\"weight\"] > 0.5]\n",
    "esmall = [(u, v) for (u, v, d) in G_sample.edges(data=True) if d[\"weight\"] <= 0.5]\n",
    "\n",
    "pos = nx.spring_layout(G_sample, seed=7)  # positions for all nodes - seed for reproducibility\n",
    "\n",
    "# nodes\n",
    "nx.draw_networkx_nodes(G_sample, pos, node_size=1000)\n",
    "\n",
    "# edges\n",
    "nx.draw_networkx_edges(G_sample, pos, edgelist=elarge, width=6)\n",
    "nx.draw_networkx_edges(\n",
    "    G, pos, edgelist=esmall, width=1, alpha=0.2, edge_color=\"black\"\n",
    ")\n",
    "\n",
    "# node labels\n",
    "nx.draw_networkx_labels(G_sample, pos, font_size=10, font_family=\"sans-serif\")\n",
    "# edge weight labels\n",
    "edge_labels = {edge: f\"{weight:.2f}\" for edge, weight in nx.get_edge_attributes(G_sample, \"weight\").items()}\n",
    "\n",
    "nx.draw_networkx_edge_labels(G_sample, pos, edge_labels)\n",
    "\n",
    "ax = plt.gca()\n",
    "ax.margins(0.08)\n",
    "plt.axis(\"off\")\n",
    "plt.tight_layout()\n",
    "plt.show()"
   ]
  },
  {
   "cell_type": "markdown",
   "metadata": {},
   "source": [
    "## **Split the data**"
   ]
  },
  {
   "cell_type": "code",
   "execution_count": 14,
   "metadata": {},
   "outputs": [],
   "source": [
    "X = hatEval_df[[\"tweet_2\", \"mentions\", \"themes\"]]\n",
    "y = hatEval_df[\"HS\"]"
   ]
  },
  {
   "cell_type": "code",
   "execution_count": 15,
   "metadata": {},
   "outputs": [],
   "source": [
    "from sklearn.model_selection import train_test_split\n",
    "\n",
    "X_train, X_test, y_train, y_test = train_test_split(X, y, stratify=y, test_size=0.2, random_state=42)"
   ]
  },
  {
   "cell_type": "code",
   "execution_count": 16,
   "metadata": {},
   "outputs": [
    {
     "name": "stdout",
     "output_type": "stream",
     "text": [
      "7939 1985\n"
     ]
    }
   ],
   "source": [
    "print(len(y_train), len(y_test))"
   ]
  },
  {
   "cell_type": "markdown",
   "metadata": {
    "id": "ckou-kftFtPD"
   },
   "source": [
    "## **FastText + BiLSTM component**"
   ]
  },
  {
   "cell_type": "code",
   "execution_count": 17,
   "metadata": {},
   "outputs": [],
   "source": [
    "# Download Fasttext model\n",
    "\n",
    "import gensim.downloader as api\n",
    "\n",
    "ft_model = api.load(\"fasttext-wiki-news-subwords-300\")  # About 1 millions of words"
   ]
  },
  {
   "cell_type": "code",
   "execution_count": 18,
   "metadata": {
    "id": "GgWa1LCEkyYE"
   },
   "outputs": [
    {
     "name": "stdout",
     "output_type": "stream",
     "text": [
      "CPU times: user 3 μs, sys: 0 ns, total: 3 μs\n",
      "Wall time: 6.2 μs\n"
     ]
    }
   ],
   "source": [
    "%%time\n",
    "\n",
    "MAX_SEQUENCE_LENGTH = 8  # Ensure 10 words per input / 10\n",
    "EMBEDDING_DIM = 300       # Each word has a 300-dimensional embedding /300\n",
    "\n",
    "def get_fasttext_embedding_sequence(text):\n",
    "    words = text.split()\n",
    "    vectors = [ft_model[w] for w in words if w in ft_model.key_to_index]\n",
    "    if not vectors:\n",
    "        return np.zeros((MAX_SEQUENCE_LENGTH, EMBEDDING_DIM))  # Return zeros if no words are found\n",
    "    vectors = vectors[:MAX_SEQUENCE_LENGTH]  # Truncate if too long\n",
    "    return pad_sequences([vectors], maxlen=MAX_SEQUENCE_LENGTH, dtype=\"float32\", padding=\"post\")[0]"
   ]
  },
  {
   "cell_type": "code",
   "execution_count": 19,
   "metadata": {},
   "outputs": [],
   "source": [
    "X_train[\"embeddings\"] = X_train[\"tweet_2\"].apply(get_fasttext_embedding_sequence)\n",
    "X_train_embeddings = np.array(X_train[\"embeddings\"].tolist())  # Shape: (num_samples, 10, 300)\n",
    "y_train_reshaped = np.array(y_train).reshape(-1, 1)"
   ]
  },
  {
   "cell_type": "code",
   "execution_count": 20,
   "metadata": {},
   "outputs": [],
   "source": [
    "def create_bilstm_model():\n",
    "    model = Sequential([\n",
    "        Input(shape=(MAX_SEQUENCE_LENGTH, EMBEDDING_DIM)),\n",
    "        Bidirectional(LSTM(100, return_sequences=True, dropout=0.1)),\n",
    "        Dropout(0.5),\n",
    "        tf.keras.layers.GlobalMaxPooling1D(),\n",
    "        Dense(100, activation=\"relu\"),\n",
    "        Dense(1, activation=\"sigmoid\")\n",
    "    ])\n",
    "    model.compile(\n",
    "        loss=\"binary_crossentropy\",\n",
    "        optimizer=\"adam\",\n",
    "        metrics=[\n",
    "            \"accuracy\",\n",
    "            tf.keras.metrics.F1Score(average=\"macro\", name=\"f1_macro\")\n",
    "        ]\n",
    "    )\n",
    "    return model"
   ]
  },
  {
   "cell_type": "code",
   "execution_count": 21,
   "metadata": {},
   "outputs": [
    {
     "name": "stdout",
     "output_type": "stream",
     "text": [
      "Epoch 1/10\n"
     ]
    },
    {
     "name": "stderr",
     "output_type": "stream",
     "text": [
      "WARNING: All log messages before absl::InitializeLog() is called are written to STDERR\n",
      "E0000 00:00:1757252301.461586  143843 cuda_executor.cc:1309] INTERNAL: CUDA Runtime error: Failed call to cudaGetRuntimeVersion: Error loading CUDA libraries. GPU will not be used.: Error loading CUDA libraries. GPU will not be used.\n",
      "W0000 00:00:1757252301.476034  143843 gpu_device.cc:2342] Cannot dlopen some GPU libraries. Please make sure the missing libraries mentioned above are installed properly if you would like to use GPU. Follow the guide at https://www.tensorflow.org/install/gpu for how to download and setup the required libraries for your platform.\n",
      "Skipping registering GPU devices...\n",
      "2025-09-07 15:38:21.605702: W external/local_xla/xla/tsl/framework/cpu_allocator_impl.cc:84] Allocation of 60969600 exceeds 10% of free system memory.\n"
     ]
    },
    {
     "name": "stdout",
     "output_type": "stream",
     "text": [
      "\u001b[1m397/397\u001b[0m \u001b[32m━━━━━━━━━━━━━━━━━━━━\u001b[0m\u001b[37m\u001b[0m \u001b[1m5s\u001b[0m 7ms/step - accuracy: 0.6689 - f1_macro: 0.5932 - loss: 0.6118 - val_accuracy: 0.6921 - val_f1_macro: 0.5966 - val_loss: 0.5976\n",
      "Epoch 2/10\n",
      "\u001b[1m397/397\u001b[0m \u001b[32m━━━━━━━━━━━━━━━━━━━━\u001b[0m\u001b[37m\u001b[0m \u001b[1m2s\u001b[0m 6ms/step - accuracy: 0.7037 - f1_macro: 0.5932 - loss: 0.5612 - val_accuracy: 0.7091 - val_f1_macro: 0.5966 - val_loss: 0.5822\n",
      "Epoch 3/10\n",
      "\u001b[1m397/397\u001b[0m \u001b[32m━━━━━━━━━━━━━━━━━━━━\u001b[0m\u001b[37m\u001b[0m \u001b[1m2s\u001b[0m 6ms/step - accuracy: 0.7290 - f1_macro: 0.5932 - loss: 0.5355 - val_accuracy: 0.7179 - val_f1_macro: 0.5966 - val_loss: 0.5736\n",
      "Epoch 4/10\n",
      "\u001b[1m397/397\u001b[0m \u001b[32m━━━━━━━━━━━━━━━━━━━━\u001b[0m\u001b[37m\u001b[0m \u001b[1m2s\u001b[0m 6ms/step - accuracy: 0.7344 - f1_macro: 0.5932 - loss: 0.5217 - val_accuracy: 0.6732 - val_f1_macro: 0.5966 - val_loss: 0.5995\n",
      "Epoch 5/10\n",
      "\u001b[1m397/397\u001b[0m \u001b[32m━━━━━━━━━━━━━━━━━━━━\u001b[0m\u001b[37m\u001b[0m \u001b[1m2s\u001b[0m 6ms/step - accuracy: 0.7552 - f1_macro: 0.5932 - loss: 0.5022 - val_accuracy: 0.7084 - val_f1_macro: 0.5966 - val_loss: 0.5650\n",
      "Epoch 6/10\n",
      "\u001b[1m397/397\u001b[0m \u001b[32m━━━━━━━━━━━━━━━━━━━━\u001b[0m\u001b[37m\u001b[0m \u001b[1m2s\u001b[0m 6ms/step - accuracy: 0.7624 - f1_macro: 0.5932 - loss: 0.4805 - val_accuracy: 0.6870 - val_f1_macro: 0.5966 - val_loss: 0.5804\n",
      "Epoch 7/10\n",
      "\u001b[1m397/397\u001b[0m \u001b[32m━━━━━━━━━━━━━━━━━━━━\u001b[0m\u001b[37m\u001b[0m \u001b[1m2s\u001b[0m 6ms/step - accuracy: 0.7763 - f1_macro: 0.5932 - loss: 0.4611 - val_accuracy: 0.6851 - val_f1_macro: 0.5966 - val_loss: 0.5804\n",
      "Epoch 8/10\n",
      "\u001b[1m397/397\u001b[0m \u001b[32m━━━━━━━━━━━━━━━━━━━━\u001b[0m\u001b[37m\u001b[0m \u001b[1m2s\u001b[0m 6ms/step - accuracy: 0.7874 - f1_macro: 0.5932 - loss: 0.4383 - val_accuracy: 0.6858 - val_f1_macro: 0.5966 - val_loss: 0.5841\n",
      "Epoch 9/10\n",
      "\u001b[1m397/397\u001b[0m \u001b[32m━━━━━━━━━━━━━━━━━━━━\u001b[0m\u001b[37m\u001b[0m \u001b[1m2s\u001b[0m 6ms/step - accuracy: 0.8103 - f1_macro: 0.5932 - loss: 0.4134 - val_accuracy: 0.7003 - val_f1_macro: 0.5966 - val_loss: 0.5730\n",
      "Epoch 10/10\n",
      "\u001b[1m397/397\u001b[0m \u001b[32m━━━━━━━━━━━━━━━━━━━━\u001b[0m\u001b[37m\u001b[0m \u001b[1m2s\u001b[0m 6ms/step - accuracy: 0.8196 - f1_macro: 0.5932 - loss: 0.3875 - val_accuracy: 0.6782 - val_f1_macro: 0.5966 - val_loss: 0.6010\n"
     ]
    },
    {
     "data": {
      "text/plain": [
       "<keras.src.callbacks.history.History at 0x74d136c84080>"
      ]
     },
     "execution_count": 21,
     "metadata": {},
     "output_type": "execute_result"
    }
   ],
   "source": [
    "model_ft = create_bilstm_model()\n",
    "model_ft.fit(X_train_embeddings, y_train_reshaped, epochs=10, batch_size=16, validation_split=0.2)"
   ]
  },
  {
   "cell_type": "code",
   "execution_count": 22,
   "metadata": {},
   "outputs": [
    {
     "name": "stdout",
     "output_type": "stream",
     "text": [
      "\u001b[1m63/63\u001b[0m \u001b[32m━━━━━━━━━━━━━━━━━━━━\u001b[0m\u001b[37m\u001b[0m \u001b[1m1s\u001b[0m 5ms/step\n"
     ]
    }
   ],
   "source": [
    "# Test on test set\n",
    "\n",
    "X_test_embeddings = np.array(X_test[\"tweet_2\"].apply(get_fasttext_embedding_sequence).tolist())\n",
    "predictions_ft = model_ft.predict(X_test_embeddings)\n",
    "predicted_labels_ft = (predictions_ft > 0.5).astype(int) "
   ]
  },
  {
   "cell_type": "code",
   "execution_count": 23,
   "metadata": {},
   "outputs": [
    {
     "name": "stdout",
     "output_type": "stream",
     "text": [
      "Precision macro: 0.6875339424419415\n",
      "Recall macro: 0.6851617873651772\n",
      "F1 macro: 0.6743766404199475\n"
     ]
    }
   ],
   "source": [
    "print(\"Precision macro:\", precision_score(predicted_labels_ft, y_test, average=\"macro\"))\n",
    "print(\"Recall macro:\", recall_score(predicted_labels_ft, y_test, average=\"macro\"))\n",
    "print(\"F1 macro:\", f1_score(predicted_labels_ft, y_test, average=\"macro\"))"
   ]
  },
  {
   "cell_type": "markdown",
   "metadata": {
    "id": "DvMG64YxmKN-"
   },
   "source": [
    "## **Node2Vec + BiLSTM component**"
   ]
  },
  {
   "cell_type": "code",
   "execution_count": 24,
   "metadata": {},
   "outputs": [],
   "source": [
    "G_train = build_knowledge_graph(X_train)"
   ]
  },
  {
   "cell_type": "code",
   "execution_count": 25,
   "metadata": {},
   "outputs": [
    {
     "name": "stdout",
     "output_type": "stream",
     "text": [
      "Nombre de nœuds : 5739\n",
      "Nombre d'arêtes : 22740\n"
     ]
    }
   ],
   "source": [
    "nb_noeuds = G_train.number_of_nodes()\n",
    "print(f\"Nombre de nœuds : {nb_noeuds}\")\n",
    "\n",
    "# Nombre d'arêtes (relations)\n",
    "nb_aretes = G_train.number_of_edges()\n",
    "print(f\"Nombre d'arêtes : {nb_aretes}\")"
   ]
  },
  {
   "cell_type": "code",
   "execution_count": 26,
   "metadata": {},
   "outputs": [
    {
     "data": {
      "application/vnd.jupyter.widget-view+json": {
       "model_id": "8875ca5d4420480b8ea47eeabb9c3b79",
       "version_major": 2,
       "version_minor": 0
      },
      "text/plain": [
       "Computing transition probabilities:   0%|          | 0/5739 [00:00<?, ?it/s]"
      ]
     },
     "metadata": {},
     "output_type": "display_data"
    },
    {
     "name": "stderr",
     "output_type": "stream",
     "text": [
      "Generating walks (CPU: 1): 100%|██████████| 8/8 [00:01<00:00,  5.89it/s]\n",
      "Generating walks (CPU: 2): 100%|██████████| 8/8 [00:01<00:00,  5.76it/s]\n",
      "Generating walks (CPU: 3): 100%|██████████| 8/8 [00:01<00:00,  5.71it/s]\n",
      "Generating walks (CPU: 4): 100%|██████████| 8/8 [00:01<00:00,  5.68it/s]\n",
      "Generating walks (CPU: 5): 100%|██████████| 7/7 [00:01<00:00,  5.72it/s]\n",
      "Generating walks (CPU: 6): 100%|██████████| 7/7 [00:01<00:00,  6.08it/s]\n",
      "Generating walks (CPU: 7): 100%|██████████| 7/7 [00:01<00:00,  6.31it/s]\n",
      "Generating walks (CPU: 8): 100%|██████████| 7/7 [00:01<00:00,  6.50it/s]\n"
     ]
    },
    {
     "name": "stdout",
     "output_type": "stream",
     "text": [
      "CPU times: user 2min 55s, sys: 57.9 s, total: 3min 53s\n",
      "Wall time: 2min 33s\n"
     ]
    }
   ],
   "source": [
    "%%time\n",
    "\n",
    "node2vec = Node2Vec(G_train,\n",
    "                    dimensions=300,\n",
    "                    walk_length=5,\n",
    "                    num_walks=60,\n",
    "                    workers=8)\n",
    "nv_model = node2vec.fit(window=5, min_count=3, batch_words=4)"
   ]
  },
  {
   "cell_type": "code",
   "execution_count": 27,
   "metadata": {},
   "outputs": [],
   "source": [
    "entities_embeddings = {node: nv_model.wv[node] for node in G_train.nodes()}\n",
    "\n",
    "def get_entities_embeddings(entities, max_len=8, embedding_dim=300):\n",
    "  vectors = [entities_embeddings[ent] for ent in entities if ent in entities_embeddings]\n",
    "  if not vectors:\n",
    "    vectors = [np.zeros(embedding_dim)]\n",
    "  vectors = pad_sequences([vectors], maxlen=max_len, dtype=\"float32\", padding=\"post\", truncating=\"post\")\n",
    "  return vectors[0]"
   ]
  },
  {
   "cell_type": "code",
   "execution_count": 28,
   "metadata": {},
   "outputs": [],
   "source": [
    "# Combinations of mentions and themes\n",
    "X_train[\"entities\"] = X_train[\"mentions\"] + X_train[\"themes\"]\n",
    "\n",
    "# Embeddings of the combinations\n",
    "X_train[\"node2vec_embeddings\"] = X_train[\"entities\"].apply(lambda ents: get_entities_embeddings(ents))"
   ]
  },
  {
   "cell_type": "code",
   "execution_count": 29,
   "metadata": {},
   "outputs": [
    {
     "name": "stdout",
     "output_type": "stream",
     "text": [
      "Epoch 1/10\n"
     ]
    },
    {
     "name": "stderr",
     "output_type": "stream",
     "text": [
      "2025-09-07 15:41:26.819749: W external/local_xla/xla/tsl/framework/cpu_allocator_impl.cc:84] Allocation of 60969600 exceeds 10% of free system memory.\n"
     ]
    },
    {
     "name": "stdout",
     "output_type": "stream",
     "text": [
      "\u001b[1m397/397\u001b[0m \u001b[32m━━━━━━━━━━━━━━━━━━━━\u001b[0m\u001b[37m\u001b[0m \u001b[1m6s\u001b[0m 8ms/step - accuracy: 0.5963 - f1_macro: 0.5932 - loss: 0.6690 - val_accuracy: 0.6033 - val_f1_macro: 0.5966 - val_loss: 0.6566\n",
      "Epoch 2/10\n",
      "\u001b[1m397/397\u001b[0m \u001b[32m━━━━━━━━━━━━━━━━━━━━\u001b[0m\u001b[37m\u001b[0m \u001b[1m3s\u001b[0m 7ms/step - accuracy: 0.6141 - f1_macro: 0.5932 - loss: 0.6531 - val_accuracy: 0.6159 - val_f1_macro: 0.5966 - val_loss: 0.6531\n",
      "Epoch 3/10\n",
      "\u001b[1m397/397\u001b[0m \u001b[32m━━━━━━━━━━━━━━━━━━━━\u001b[0m\u001b[37m\u001b[0m \u001b[1m3s\u001b[0m 7ms/step - accuracy: 0.6305 - f1_macro: 0.5932 - loss: 0.6441 - val_accuracy: 0.6253 - val_f1_macro: 0.5966 - val_loss: 0.6480\n",
      "Epoch 4/10\n",
      "\u001b[1m397/397\u001b[0m \u001b[32m━━━━━━━━━━━━━━━━━━━━\u001b[0m\u001b[37m\u001b[0m \u001b[1m3s\u001b[0m 7ms/step - accuracy: 0.6407 - f1_macro: 0.5932 - loss: 0.6371 - val_accuracy: 0.6146 - val_f1_macro: 0.5966 - val_loss: 0.6484\n",
      "Epoch 5/10\n",
      "\u001b[1m397/397\u001b[0m \u001b[32m━━━━━━━━━━━━━━━━━━━━\u001b[0m\u001b[37m\u001b[0m \u001b[1m3s\u001b[0m 6ms/step - accuracy: 0.6440 - f1_macro: 0.5932 - loss: 0.6280 - val_accuracy: 0.6184 - val_f1_macro: 0.5966 - val_loss: 0.6466\n",
      "Epoch 6/10\n",
      "\u001b[1m397/397\u001b[0m \u001b[32m━━━━━━━━━━━━━━━━━━━━\u001b[0m\u001b[37m\u001b[0m \u001b[1m3s\u001b[0m 7ms/step - accuracy: 0.6482 - f1_macro: 0.5932 - loss: 0.6221 - val_accuracy: 0.6278 - val_f1_macro: 0.5966 - val_loss: 0.6493\n",
      "Epoch 7/10\n",
      "\u001b[1m397/397\u001b[0m \u001b[32m━━━━━━━━━━━━━━━━━━━━\u001b[0m\u001b[37m\u001b[0m \u001b[1m3s\u001b[0m 6ms/step - accuracy: 0.6586 - f1_macro: 0.5932 - loss: 0.6151 - val_accuracy: 0.6178 - val_f1_macro: 0.5966 - val_loss: 0.6484\n",
      "Epoch 8/10\n",
      "\u001b[1m397/397\u001b[0m \u001b[32m━━━━━━━━━━━━━━━━━━━━\u001b[0m\u001b[37m\u001b[0m \u001b[1m3s\u001b[0m 7ms/step - accuracy: 0.6608 - f1_macro: 0.5932 - loss: 0.6064 - val_accuracy: 0.6241 - val_f1_macro: 0.5966 - val_loss: 0.6486\n",
      "Epoch 9/10\n",
      "\u001b[1m397/397\u001b[0m \u001b[32m━━━━━━━━━━━━━━━━━━━━\u001b[0m\u001b[37m\u001b[0m \u001b[1m3s\u001b[0m 7ms/step - accuracy: 0.6682 - f1_macro: 0.5932 - loss: 0.6002 - val_accuracy: 0.6247 - val_f1_macro: 0.5966 - val_loss: 0.6554\n",
      "Epoch 10/10\n",
      "\u001b[1m397/397\u001b[0m \u001b[32m━━━━━━━━━━━━━━━━━━━━\u001b[0m\u001b[37m\u001b[0m \u001b[1m3s\u001b[0m 7ms/step - accuracy: 0.6749 - f1_macro: 0.5932 - loss: 0.5906 - val_accuracy: 0.6196 - val_f1_macro: 0.5966 - val_loss: 0.6628\n"
     ]
    },
    {
     "data": {
      "text/plain": [
       "<keras.src.callbacks.history.History at 0x74d0bc709850>"
      ]
     },
     "execution_count": 29,
     "metadata": {},
     "output_type": "execute_result"
    }
   ],
   "source": [
    "model_nv = Sequential([\n",
    "    Input(shape=(10, 300)),\n",
    "    Dropout(0.5),\n",
    "    Bidirectional(LSTM(100, return_sequences=True, dropout=0.1)),\n",
    "    tf.keras.layers.GlobalMaxPooling1D(),\n",
    "    Dense(100, activation=\"relu\"),\n",
    "    Dense(1, activation=\"sigmoid\")\n",
    "])\n",
    "\n",
    "model_nv.compile(\n",
    "    loss=\"binary_crossentropy\",\n",
    "    optimizer=\"adam\",\n",
    "    metrics=[\n",
    "        \"accuracy\",\n",
    "        tf.keras.metrics.F1Score(average=\"macro\", name=\"f1_macro\")\n",
    "    ]\n",
    ")\n",
    "\n",
    "X_train_nv = np.stack(X_train[\"node2vec_embeddings\"].tolist())\n",
    "model_nv.fit(X_train_nv, y_train, epochs=10, batch_size=16, validation_split=0.2)"
   ]
  },
  {
   "cell_type": "code",
   "execution_count": 30,
   "metadata": {},
   "outputs": [
    {
     "name": "stdout",
     "output_type": "stream",
     "text": [
      "\u001b[1m63/63\u001b[0m \u001b[32m━━━━━━━━━━━━━━━━━━━━\u001b[0m\u001b[37m\u001b[0m \u001b[1m1s\u001b[0m 7ms/step\n"
     ]
    }
   ],
   "source": [
    "X_test[\"node2vec_embeddings\"] = X_test[\"themes\"].apply(lambda ents: get_entities_embeddings(ents))\n",
    "X_test_nv = np.stack(X_test[\"node2vec_embeddings\"].tolist())\n",
    "predictions_nv = model_nv.predict(X_test_nv)\n",
    "predicted_labels_nv = (predictions_nv > 0.5).astype(int) "
   ]
  },
  {
   "cell_type": "code",
   "execution_count": 31,
   "metadata": {},
   "outputs": [
    {
     "name": "stdout",
     "output_type": "stream",
     "text": [
      "Precision macro: 0.5328073858753665\n",
      "Recall macro: 0.5625533113541779\n",
      "F1 macro: 0.4940627812491365\n"
     ]
    }
   ],
   "source": [
    "print(\"Precision macro:\", precision_score(predicted_labels_nv, y_test, average=\"macro\"))\n",
    "print(\"Recall macro:\", recall_score(predicted_labels_nv, y_test, average=\"macro\"))\n",
    "print(\"F1 macro:\", f1_score(predicted_labels_nv, y_test, average=\"macro\"))"
   ]
  },
  {
   "cell_type": "markdown",
   "metadata": {},
   "source": [
    "## **Hybrid model**"
   ]
  },
  {
   "cell_type": "code",
   "execution_count": 32,
   "metadata": {},
   "outputs": [],
   "source": [
    "# The two inputs of the model (fasttext embeddings + graph embeddings)\n",
    "input1 = Input(shape=(MAX_SEQUENCE_LENGTH, EMBEDDING_DIM))\n",
    "input2 = Input(shape=(8, 300))"
   ]
  },
  {
   "cell_type": "code",
   "execution_count": 33,
   "metadata": {},
   "outputs": [],
   "source": [
    "# Extraction of bidirectional LSTM layers\n",
    "x1 = Bidirectional(LSTM(100, return_sequences=True, dropout=0.1))(input1)\n",
    "x1 = Dropout(0.5)(x1)\n",
    "\n",
    "x2 = Bidirectional(LSTM(100, return_sequences=True, dropout=0.1))(input2)\n",
    "x2 = Dropout(0.5)(x2)\n",
    "\n",
    "# Concatenation of the two outputs\n",
    "merged = Concatenate()([x1, x2])"
   ]
  },
  {
   "cell_type": "code",
   "execution_count": 34,
   "metadata": {},
   "outputs": [
    {
     "name": "stderr",
     "output_type": "stream",
     "text": [
      "2025-09-07 15:41:57.989013: W external/local_xla/xla/tsl/framework/cpu_allocator_impl.cc:84] Allocation of 60969600 exceeds 10% of free system memory.\n",
      "2025-09-07 15:41:58.219532: W external/local_xla/xla/tsl/framework/cpu_allocator_impl.cc:84] Allocation of 60969600 exceeds 10% of free system memory.\n"
     ]
    },
    {
     "name": "stdout",
     "output_type": "stream",
     "text": [
      "Epoch 1/10\n",
      "\u001b[1m397/397\u001b[0m \u001b[32m━━━━━━━━━━━━━━━━━━━━\u001b[0m\u001b[37m\u001b[0m \u001b[1m42s\u001b[0m 81ms/step - accuracy: 0.6736 - f1_macro: 0.5932 - loss: 0.6048 - val_accuracy: 0.7091 - val_f1_macro: 0.5966 - val_loss: 0.5763\n",
      "Epoch 2/10\n",
      "\u001b[1m397/397\u001b[0m \u001b[32m━━━━━━━━━━━━━━━━━━━━\u001b[0m\u001b[37m\u001b[0m \u001b[1m6s\u001b[0m 15ms/step - accuracy: 0.7260 - f1_macro: 0.5932 - loss: 0.5438 - val_accuracy: 0.7103 - val_f1_macro: 0.5966 - val_loss: 0.5661\n",
      "Epoch 3/10\n",
      "\u001b[1m397/397\u001b[0m \u001b[32m━━━━━━━━━━━━━━━━━━━━\u001b[0m\u001b[37m\u001b[0m \u001b[1m7s\u001b[0m 17ms/step - accuracy: 0.7433 - f1_macro: 0.5932 - loss: 0.5142 - val_accuracy: 0.7166 - val_f1_macro: 0.5966 - val_loss: 0.5614\n",
      "Epoch 4/10\n",
      "\u001b[1m397/397\u001b[0m \u001b[32m━━━━━━━━━━━━━━━━━━━━\u001b[0m\u001b[37m\u001b[0m \u001b[1m7s\u001b[0m 17ms/step - accuracy: 0.7577 - f1_macro: 0.5932 - loss: 0.4927 - val_accuracy: 0.7173 - val_f1_macro: 0.5966 - val_loss: 0.5561\n",
      "Epoch 5/10\n",
      "\u001b[1m397/397\u001b[0m \u001b[32m━━━━━━━━━━━━━━━━━━━━\u001b[0m\u001b[37m\u001b[0m \u001b[1m7s\u001b[0m 17ms/step - accuracy: 0.7736 - f1_macro: 0.5932 - loss: 0.4709 - val_accuracy: 0.7317 - val_f1_macro: 0.5966 - val_loss: 0.5480\n",
      "Epoch 6/10\n",
      "\u001b[1m397/397\u001b[0m \u001b[32m━━━━━━━━━━━━━━━━━━━━\u001b[0m\u001b[37m\u001b[0m \u001b[1m6s\u001b[0m 16ms/step - accuracy: 0.7870 - f1_macro: 0.5932 - loss: 0.4446 - val_accuracy: 0.7317 - val_f1_macro: 0.5966 - val_loss: 0.5441\n",
      "Epoch 7/10\n",
      "\u001b[1m397/397\u001b[0m \u001b[32m━━━━━━━━━━━━━━━━━━━━\u001b[0m\u001b[37m\u001b[0m \u001b[1m7s\u001b[0m 17ms/step - accuracy: 0.8046 - f1_macro: 0.5932 - loss: 0.4117 - val_accuracy: 0.7311 - val_f1_macro: 0.5966 - val_loss: 0.5496\n",
      "Epoch 8/10\n",
      "\u001b[1m397/397\u001b[0m \u001b[32m━━━━━━━━━━━━━━━━━━━━\u001b[0m\u001b[37m\u001b[0m \u001b[1m27s\u001b[0m 68ms/step - accuracy: 0.8241 - f1_macro: 0.5932 - loss: 0.3807 - val_accuracy: 0.7229 - val_f1_macro: 0.5966 - val_loss: 0.5949\n",
      "Epoch 9/10\n",
      "\u001b[1m397/397\u001b[0m \u001b[32m━━━━━━━━━━━━━━━━━━━━\u001b[0m\u001b[37m\u001b[0m \u001b[1m6s\u001b[0m 14ms/step - accuracy: 0.8402 - f1_macro: 0.5932 - loss: 0.3528 - val_accuracy: 0.7191 - val_f1_macro: 0.5966 - val_loss: 0.5820\n",
      "Epoch 10/10\n",
      "\u001b[1m397/397\u001b[0m \u001b[32m━━━━━━━━━━━━━━━━━━━━\u001b[0m\u001b[37m\u001b[0m \u001b[1m5s\u001b[0m 13ms/step - accuracy: 0.8503 - f1_macro: 0.5932 - loss: 0.3245 - val_accuracy: 0.7154 - val_f1_macro: 0.5966 - val_loss: 0.6174\n"
     ]
    },
    {
     "data": {
      "text/plain": [
       "<keras.src.callbacks.history.History at 0x74d00f6f70e0>"
      ]
     },
     "execution_count": 34,
     "metadata": {},
     "output_type": "execute_result"
    }
   ],
   "source": [
    "# Global Max Pooling and fully connected layers\n",
    "x = tf.keras.layers.GlobalMaxPooling1D()(merged)\n",
    "x = Dense(100, activation=\"relu\")(x)\n",
    "output = Dense(1, activation=\"sigmoid\")(x)\n",
    "\n",
    "# Creation of the final model\n",
    "merged_model = Model(inputs=[input1, input2], outputs=output)\n",
    "\n",
    "merged_model.compile(\n",
    "        loss=\"binary_crossentropy\",\n",
    "        optimizer=\"adam\",\n",
    "        metrics=[\n",
    "            \"accuracy\",\n",
    "            tf.keras.metrics.F1Score(average=\"macro\", name=\"f1_macro\")\n",
    "        ]\n",
    "    )\n",
    "\n",
    "merged_model.fit([X_train_embeddings, X_train_nv], y_train, epochs=10, batch_size=16, validation_split=0.2)"
   ]
  },
  {
   "cell_type": "code",
   "execution_count": 35,
   "metadata": {},
   "outputs": [
    {
     "name": "stdout",
     "output_type": "stream",
     "text": [
      "\u001b[1m63/63\u001b[0m \u001b[32m━━━━━━━━━━━━━━━━━━━━\u001b[0m\u001b[37m\u001b[0m \u001b[1m1s\u001b[0m 9ms/step\n",
      "Precision macro: 0.6786995441048871\n",
      "Recall macro: 0.6908305224845681\n",
      "F1 macro: 0.6811316573958472\n"
     ]
    }
   ],
   "source": [
    "predictions = merged_model.predict([\n",
    "    X_test_embeddings,  # Should be shape (batch_size, 10, 300)\n",
    "    X_test_nv           # Should be shape (batch_size, 10, 128)\n",
    "])\n",
    "predicted_labels = (predictions > 0.5).astype(int)\n",
    "\n",
    "print(\"Precision macro:\", precision_score(predicted_labels, y_test, average=\"macro\"))\n",
    "print(\"Recall macro:\", recall_score(predicted_labels, y_test, average=\"macro\"))\n",
    "print(\"F1 macro:\", f1_score(predicted_labels, y_test, average=\"macro\"))"
   ]
  },
  {
   "cell_type": "code",
   "execution_count": 36,
   "metadata": {},
   "outputs": [
    {
     "data": {
      "image/png": "[encoded data removed]",
      "text/plain": [
       "<Figure size 640x480 with 2 Axes>"
      ]
     },
     "metadata": {},
     "output_type": "display_data"
    }
   ],
   "source": [
    "from sklearn.metrics import confusion_matrix, ConfusionMatrixDisplay\n",
    "\n",
    "disp = ConfusionMatrixDisplay(confusion_matrix(predicted_labels, y_test))\n",
    "disp.plot(cmap=plt.cm.Blues)\n",
    "plt.show()"
   ]
  },
  {
   "cell_type": "markdown",
   "metadata": {
    "id": "Bdh8Gpv_9JrQ"
   },
   "source": [
    "## **Bibliography**"
   ]
  },
  {
   "cell_type": "markdown",
   "metadata": {
    "id": "SbrNUUTj9O02"
   },
   "source": [
    "* https://stackoverflow.com/questions/73078231/how-to-get-all-stop-words-from-spacy-and-dont-get-any-errors-typeerror-argume\n",
    "* https://github.com/eliorc/node2vec\n"
   ]
  }
 ],
 "metadata": {
  "colab": {
   "provenance": []
  },
  "kernelspec": {
   "display_name": "venv (3.12.3)",
   "language": "python",
   "name": "python3"
  },
  "language_info": {
   "codemirror_mode": {
    "name": "ipython",
    "version": 3
   },
   "file_extension": ".py",
   "mimetype": "text/x-python",
   "name": "python",
   "nbconvert_exporter": "python",
   "pygments_lexer": "ipython3",
   "version": "3.12.3"
  }
 },
 "nbformat": 4,
 "nbformat_minor": 4
}
